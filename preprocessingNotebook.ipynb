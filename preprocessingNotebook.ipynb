{
 "cells": [
  {
   "attachments": {},
   "cell_type": "markdown",
   "metadata": {},
   "source": [
    "# VCPI Group assignment - Dynamic Data augmentation treatment\n",
    "\n",
    "This notebook aims to get the best possible test accuracy on GTSRB - German Traffic Sign Recognition Benchmark :\n",
    "It will use CNN for the task.\n",
    "\n",
    "In this notebook we approach the use of Data Augmentation on preprocessing, constructing several datasets concatenated (acho que é pelo menos o que o gajo quer)\n"
   ]
  },
  {
   "cell_type": "code",
   "execution_count": 2,
   "metadata": {},
   "outputs": [
    {
     "name": "stderr",
     "output_type": "stream",
     "text": [
      "c:\\Users\\USER\\Documents\\GitHub\\VCPI-uminho\\computer-vision\\.venv\\lib\\site-packages\\tensorflow_addons\\utils\\tfa_eol_msg.py:23: UserWarning: \n",
      "\n",
      "TensorFlow Addons (TFA) has ended development and introduction of new features.\n",
      "TFA has entered a minimal maintenance and release mode until a planned end of life in May 2024.\n",
      "Please modify downstream libraries to take dependencies from other repositories in our TensorFlow community (e.g. Keras, Keras-CV, and Keras-NLP). \n",
      "\n",
      "For more information see: https://github.com/tensorflow/addons/issues/2807 \n",
      "\n",
      "  warnings.warn(\n"
     ]
    },
    {
     "name": "stdout",
     "output_type": "stream",
     "text": [
      "2.10.0\n",
      "[PhysicalDevice(name='/physical_device:GPU:0', device_type='GPU')]\n"
     ]
    }
   ],
   "source": [
    "import tensorflow as tf\n",
    "from tensorflow import keras\n",
    "from tensorflow.keras.models import Sequential, model_from_json\n",
    "from tensorflow.keras.optimizers import SGD, Adam\n",
    "from tensorflow.keras.callbacks import LearningRateScheduler, ModelCheckpoint,TensorBoard, EarlyStopping\n",
    "from tensorflow.keras.layers import LeakyReLU, BatchNormalization, Conv2D, MaxPooling2D, \\\n",
    "            Dense, Activation, Flatten, Dropout, Input\n",
    "from tensorflow.keras.preprocessing.image import ImageDataGenerator\n",
    "import tensorflow_addons as tfa \n",
    "import os\n",
    "import pathlib\n",
    "import numpy as np\n",
    "import matplotlib.pyplot as plt\n",
    "from matplotlib.image import imread\n",
    "from PIL import Image\n",
    "import IPython.display as display\n",
    "\n",
    "import seaborn as sn\n",
    "import pandas as pd\n",
    "import random\n",
    "import glob\n",
    "tf.config.run_functions_eagerly(True)\n",
    "gpus = tf.config.list_physical_devices('GPU')\n",
    "print(tf.__version__)\n",
    "if gpus:\n",
    "    print(gpus)\n",
    "else:\n",
    "    print(\"No GPU available.\")\n",
    "\n",
    "\n",
    "BATCH_SIZE = 64\n",
    "IMAGE_HEIGHT = 32\n",
    "IMAGE_WIDTH = 32"
   ]
  },
  {
   "attachments": {},
   "cell_type": "markdown",
   "metadata": {},
   "source": [
    "### Helpful functions"
   ]
  },
  {
   "cell_type": "code",
   "execution_count": 18,
   "metadata": {},
   "outputs": [],
   "source": [
    "def show_batch(cols, image_batch, label_batch):\n",
    "    rows = int(BATCH_SIZE / cols) \n",
    "    if rows * cols < BATCH_SIZE:\n",
    "        rows += 1\n",
    "    width = 3 * rows\n",
    "    height = 3 * cols\n",
    "    \n",
    "    \n",
    "    f, axes= plt.subplots(rows,cols,figsize=(height,width))\n",
    "    fig=plt.figure()\n",
    "    for n in range(BATCH_SIZE):\n",
    "        \n",
    "        subplot_title=(\"class \"+ classNames[label_batch[n]==1][0])\n",
    "        axes.ravel()[n].set_title(subplot_title)  \n",
    "        axes.ravel()[n].imshow(image_batch[n])\n",
    "        axes.ravel()[n].axis('off')\n",
    "\n",
    "    fig.tight_layout()    \n",
    "    plt.show()\n",
    "    \n",
    "    \n",
    "def show_history(history):\n",
    "    print(history.history.keys())\n",
    "\n",
    "    # summarize history for accuracy\n",
    "    plt.plot(history.history['accuracy'])\n",
    "    plt.plot(history.history['val_accuracy'])\n",
    "    plt.title('model accuracy')\n",
    "    plt.ylabel('accuracy')\n",
    "    plt.xlabel('epoch')\n",
    "    plt.legend(['train', 'val'], loc='lower right')\n",
    "    plt.show()\n",
    "    # summarize history for loss\n",
    "    plt.plot(history.history['loss'])\n",
    "    plt.plot(history.history['val_loss'])\n",
    "    plt.title('model loss')\n",
    "    plt.ylabel('loss')\n",
    "    plt.xlabel('epoch')\n",
    "    plt.legend(['train', 'val'], loc='upper right')\n",
    "    plt.show()    \n",
    "    \n",
    "    \n",
    "def show_accuracies(): \n",
    "    fig, ax = plt.subplots()\n",
    "    X = np.arange(2)\n",
    "\n",
    "    models = ['simple', 'new layers']\n",
    "    plt.bar(X, [evalV1[1], evalV2[1]], width = 0.4, color = 'b', label='test')\n",
    "    plt.bar(X + 0.4, [valV1[1], valV2[1]], color = 'r', width = 0.4, label = \"val\")\n",
    "    plt.xticks(X + 0.4 / 2, models)\n",
    "    plt.ylim(top = 1.0, bottom = 0.85)\n",
    "    plt.legend(loc='upper left')\n",
    "    plt.show()\n",
    "\n",
    "\n",
    "def show_data(s1,l1, s2,l2, labels):\n",
    "    fig, ax = plt.subplots()\n",
    "    X = np.arange(len(s1))\n",
    "\n",
    "    models = labels\n",
    "    plt.bar(X, s1, width = 0.4, color = 'b', label=l1)\n",
    "    plt.bar(X + 0.4, s2, color = 'r', width = 0.4, label = l2)\n",
    "    plt.xticks(X + 0.4 / 2, models)\n",
    "    plt.ylim(top = 1-00, bottom = 0.85)\n",
    "    plt.legend(loc='upper left')\n",
    "    plt.show()\n",
    "\n",
    "\n",
    "    \n",
    "def show_misclassified(predictions, ground_truth, images, num_rows= 5, num_cols=3):\n",
    "    # Plot the first X test images with wrong predictions.\n",
    "    num_images = num_rows*num_cols\n",
    "    plt.figure(figsize=(2*2*num_cols, 2*num_rows))\n",
    "    i = 0\n",
    "    k = 0\n",
    "    while k < len(images) and i < num_images:\n",
    "        predicted_label = np.argmax(predictions[k])\n",
    "        gt = np.where(ground_truth[k])[0][0]\n",
    "        if predicted_label != gt:\n",
    "            plt.subplot(num_rows, 2*num_cols, 2*i+1)\n",
    "            plot_image(k, predictions[k], gt, images)\n",
    "            plt.subplot(num_rows, 2*num_cols, 2*i+2)\n",
    "            plot_value_array(k, predictions[k], ground_truth)\n",
    "            i += 1\n",
    "        k += 1\n",
    "    plt.tight_layout()\n",
    "    plt.show()\n",
    "\n",
    "\n",
    "def plot_image(i, predictions_array, true_label, img):\n",
    "  predictions_array, true_label, img = predictions_array, true_label, img[i]\n",
    "  plt.grid(False)\n",
    "  plt.xticks([])\n",
    "  plt.yticks([])\n",
    "\n",
    "  plt.imshow(img, cmap=plt.cm.binary)\n",
    "\n",
    "  predicted_label = np.argmax(predictions_array)\n",
    "  if predicted_label == true_label:\n",
    "    color = 'blue'\n",
    "  else:\n",
    "    color = 'red'\n",
    "\n",
    "  plt.xlabel(\"{} {:2.0f}% ({})\".format(classNames[predicted_label],\n",
    "                                100*np.max(predictions_array),\n",
    "                                classNames[true_label]),\n",
    "                                color=color)\n",
    "\n",
    "def plot_value_array(i, predictions_array, true_label):\n",
    "  predictions_array, true_label = predictions_array, true_label[i]\n",
    "  plt.grid(False)\n",
    "  plt.xticks(range(43))\n",
    "  plt.yticks([])\n",
    "  thisplot = plt.bar(range(43), predictions_array, color=\"#777777\")\n",
    "  plt.ylim([0, 1])\n",
    "  predicted_label = np.argmax(predictions_array)\n",
    "\n",
    "  thisplot[predicted_label].set_color('red')\n",
    "  thisplot[np.where(true_label)[0][0]].set_color('blue')    \n",
    "\n",
    "def plot_predictions(predictions, ground_truth, images, num_rows= 5, num_cols=3 ):\n",
    "\n",
    "    num_images = num_rows*num_cols\n",
    "    plt.figure(figsize=(2*2*num_cols, 2*num_rows))\n",
    "    for i in range(min(num_images,len(images))):\n",
    "        gt = np.where(ground_truth[i])[0][0]\n",
    "        plt.subplot(num_rows, 2*num_cols, 2*i+1)\n",
    "        plot_image(i, predictions[i], gt, images)\n",
    "        plt.subplot(num_rows, 2*num_cols, 2*i+2)\n",
    "        plot_value_array(i, predictions[i], ground_truth)\n",
    "    plt.tight_layout()\n",
    "    plt.show()\n",
    "    \n",
    "\n",
    "def show_confusion_matrix(model, dataset):\n",
    "   \n",
    "    all_labels = []\n",
    "    all_preds = []\n",
    "\n",
    "    for images , labels in dataset.take(-1):  \n",
    "        numpy_labels = labels.numpy()\n",
    "        numpy_images = images.numpy()\n",
    "        preds = model.predict(numpy_images, verbose=0)  \n",
    "        \n",
    "        all_labels += [np.argmax(x) for x in numpy_labels]\n",
    "        all_preds += [np.argmax(x) for x in preds]\n",
    "        \n",
    "    conf_mat = tf.math.confusion_matrix(all_labels, all_preds)\n",
    "    # create a mask for values above a threshold\n",
    "    annot_mask = conf_mat.numpy() > 50\n",
    "    #conf_mat_norm = conf_mat / conf_mat.sum(axis=1)[:, np.newaxis]\n",
    "\n",
    "    df_cm = pd.DataFrame(conf_mat.numpy(), range(43), range(43))\n",
    "    plt.figure(figsize=(20,15))\n",
    "    sn.set(font_scale=1.4) # for label size\n",
    "    sn.heatmap(df_cm, annot=True, annot_kws={\"size\": 16}, fmt='d',cmap='Blues') # font size\n",
    "\n",
    "    plt.show()\n",
    "\n",
    "    res_correct = {i:0 for i in range(43)}\n",
    "    res_incorrect = {i:0 for i in range(43)}\n",
    "    for i in range(len(all_preds)):\n",
    "        if all_preds[i] == all_labels[i]:\n",
    "            res_correct[all_labels[i]] += 1\n",
    "        else:\n",
    "            res_incorrect[all_labels[i]] += 1\n",
    "\n",
    "    for i in range(len(res_correct)):\n",
    "        print('class: ', i, ' total images: ', res_correct[i] + res_incorrect[i],' % correct: ', res_correct[i] / (res_correct[i] + res_incorrect[i]))\n",
    "        \n",
    "        \n",
    "        \n",
    "def plot_distribution(class_distribution, title):\n",
    "    classes = list(class_distribution.keys())\n",
    "    counts = list(class_distribution.values())\n",
    "\n",
    "    plt.figure(figsize=(10, 5))\n",
    "    plt.bar(classes, counts)\n",
    "    plt.xlabel('Class')\n",
    "    plt.ylabel('Count')\n",
    "    plt.title(title)\n",
    "    plt.xticks(rotation=90)  # rotate x-axis labels for readability\n",
    "    plt.show()"
   ]
  },
  {
   "cell_type": "code",
   "execution_count": 7,
   "metadata": {},
   "outputs": [],
   "source": [
    "data_dir = 'D:/Data-UM/DataVCPI'\n",
    "train_path = 'D:/Data-UM/DataVCPI/train/GTSRB/Final_Training/Images'\n",
    "test_path = 'D:/Data-UM/DataVCPI/test'\n",
    "log_and_model_path = 'logs/model2'"
   ]
  },
  {
   "cell_type": "code",
   "execution_count": 3,
   "metadata": {},
   "outputs": [],
   "source": [
    "train_data_dir=pathlib.Path(train_path)\n",
    "test_data_dir=pathlib.Path(test_path)"
   ]
  },
  {
   "cell_type": "code",
   "execution_count": 5,
   "metadata": {},
   "outputs": [
    {
     "name": "stdout",
     "output_type": "stream",
     "text": [
      "Total image train dataset: 39209\n",
      "Total image test dataset: 12630\n",
      "Number of classes/categories:  43\n"
     ]
    }
   ],
   "source": [
    "#count the numbers of images in your directory\n",
    "train_image_count = len(list(train_data_dir.glob('*/*.png')))\n",
    "test_image_count = len(list(test_data_dir.glob('*/*.png')))\n",
    "\n",
    "print('Total image train dataset:', train_image_count)\n",
    "print('Total image test dataset:',test_image_count)   \n",
    "\n",
    "#Num of categories:\n",
    "NUM_CLASSES = len(os.listdir(train_path))\n",
    "print('Number of classes/categories: ',NUM_CLASSES)         "
   ]
  },
  {
   "cell_type": "code",
   "execution_count": 6,
   "metadata": {},
   "outputs": [],
   "source": [
    "# Label Overview\n",
    "classNames = { 0:'Speed limit (20km/h)',\n",
    "            1:'Speed limit (30km/h)', \n",
    "            2:'Speed limit (50km/h)', \n",
    "            3:'Speed limit (60km/h)', \n",
    "            4:'Speed limit (70km/h)', \n",
    "            5:'Speed limit (80km/h)', \n",
    "            6:'End of speed limit (80km/h)', \n",
    "            7:'Speed limit (100km/h)', \n",
    "            8:'Speed limit (120km/h)', \n",
    "            9:'No passing', \n",
    "            10:'No passing veh over 3.5 tons', \n",
    "            11:'Right-of-way at intersection', \n",
    "            12:'Priority road', \n",
    "            13:'Yield', \n",
    "            14:'Stop', \n",
    "            15:'No vehicles', \n",
    "            16:'Veh > 3.5 tons prohibited', \n",
    "            17:'No entry', \n",
    "            18:'General caution', \n",
    "            19:'Dangerous curve left', \n",
    "            20:'Dangerous curve right', \n",
    "            21:'Double curve', \n",
    "            22:'Bumpy road', \n",
    "            23:'Slippery road', \n",
    "            24:'Road narrows on the right', \n",
    "            25:'Road work', \n",
    "            26:'Traffic signals', \n",
    "            27:'Pedestrians', \n",
    "            28:'Children crossing', \n",
    "            29:'Bicycles crossing', \n",
    "            30:'Beware of ice/snow',\n",
    "            31:'Wild animals crossing', \n",
    "            32:'End speed + passing limits', \n",
    "            33:'Turn right ahead', \n",
    "            34:'Turn left ahead', \n",
    "            35:'Ahead only', \n",
    "            36:'Go straight or right', \n",
    "            37:'Go straight or left', \n",
    "            38:'Keep right', \n",
    "            39:'Keep left', \n",
    "            40:'Roundabout mandatory', \n",
    "            41:'End of no passing', \n",
    "            42:'End no passing veh > 3.5 tons' }\n",
    "\n",
    "classes = np.array([\n",
    "    '00000', '00001', '00002', '00003', '00004', '00005', '00006', '00007',\n",
    "    '00008', '00009', '00010', '00011', '00012', '00013', '00014', '00015',\n",
    "    '00016', '00017', '00018', '00019', '00020', '00021', '00022', '00023',\n",
    "    '00024', '00025', '00026', '00027', '00028', '00029', '00030', '00031',\n",
    "    '00032', '00033', '00034', '00035', '00036', '00037', '00038', '00039',\n",
    "    '00040', '00041', '00042'\n",
    "])"
   ]
  },
  {
   "attachments": {},
   "cell_type": "markdown",
   "metadata": {},
   "source": [
    "Create validation dataset"
   ]
  },
  {
   "cell_type": "code",
   "execution_count": 8,
   "metadata": {},
   "outputs": [],
   "source": [
    "def create_validation_set(train_ds, validation_ratio):\n",
    "    train_split = 1.0-validation_ratio\n",
    "    train_size = int(train_split * train_image_count // BATCH_SIZE)\n",
    "    train_ds = train_ds.shuffle(buffer_size=train_image_count)\n",
    "\n",
    "    # Create the validation dataset\n",
    "    validation_ds = train_ds.skip(train_size)\n",
    "    train_ds_subset = train_ds.take(train_size)\n",
    "    \n",
    "    return train_ds_subset,validation_ds"
   ]
  },
  {
   "attachments": {},
   "cell_type": "markdown",
   "metadata": {},
   "source": [
    "### Load the dataset into preprocessing"
   ]
  },
  {
   "cell_type": "code",
   "execution_count": 9,
   "metadata": {},
   "outputs": [
    {
     "name": "stdout",
     "output_type": "stream",
     "text": [
      "Found 39209 files belonging to 43 classes.\n"
     ]
    },
    {
     "name": "stderr",
     "output_type": "stream",
     "text": [
      "c:\\Users\\USER\\Documents\\GitHub\\VCPI-uminho\\computer-vision\\.venv\\lib\\site-packages\\tensorflow\\python\\data\\ops\\structured_function.py:264: UserWarning: Even though the `tf.config.experimental_run_functions_eagerly` option is set, this option does not apply to tf.data functions. To force eager execution of tf.data functions, please use `tf.data.experimental.enable_debug_mode()`.\n",
      "  warnings.warn(\n"
     ]
    },
    {
     "name": "stdout",
     "output_type": "stream",
     "text": [
      "Found 12630 files belonging to 43 classes.\n"
     ]
    }
   ],
   "source": [
    "### Load the dataset into preprocessing\n",
    "# Use keras.preprocessing method to load data from the directory\n",
    "train_ds = tf.keras.preprocessing.image_dataset_from_directory(\n",
    "    train_data_dir,\n",
    "    seed=123,\n",
    "    image_size=(IMAGE_HEIGHT, IMAGE_WIDTH),\n",
    "    batch_size=BATCH_SIZE)\n",
    "\n",
    "test_ds = tf.keras.preprocessing.image_dataset_from_directory(\n",
    "    test_data_dir,\n",
    "    seed=123,\n",
    "    image_size=(IMAGE_HEIGHT, IMAGE_WIDTH),\n",
    "    batch_size=BATCH_SIZE)\n",
    "\n",
    "\n",
    "AUTOTUNE = tf.data.AUTOTUNE  #adjust the amount of parallelism depending on the available system resources"
   ]
  },
  {
   "attachments": {},
   "cell_type": "markdown",
   "metadata": {},
   "source": [
    "### Check for Unbalanced dataset"
   ]
  },
  {
   "cell_type": "code",
   "execution_count": 19,
   "metadata": {},
   "outputs": [
    {
     "name": "stdout",
     "output_type": "stream",
     "text": [
      "{'00018': 944, '00008': 1132, '00004': 1582, '00002': 1835, '00025': 1198, '00038': 1642, '00005': 1490, '00001': 1783, '00003': 1139, '00011': 1059, '00013': 1744, '00010': 1620, '00012': 1660, '00022': 316, '00037': 163, '00007': 1150, '00035': 965, '00014': 638, '00006': 342, '00019': 169, '00031': 621, '00009': 1177, '00042': 174, '00041': 195, '00030': 365, '00039': 229, '00016': 342, '00017': 895, '00015': 495, '00023': 406, '00036': 304, '00000': 175, '00034': 327, '00028': 418, '00040': 289, '00032': 192, '00027': 194, '00024': 210, '00026': 466, '00029': 220, '00033': 524, '00021': 266, '00020': 282}\n"
     ]
    },
    {
     "data": {
      "image/png": "[encoded data removed]",
      "text/plain": [
       "<Figure size 1000x500 with 1 Axes>"
      ]
     },
     "metadata": {},
     "output_type": "display_data"
    }
   ],
   "source": [
    "train_class_distribution = {}\n",
    "\n",
    "for images, labels in train_ds:\n",
    "    for label in labels.numpy():\n",
    "        class_name = classes[label]\n",
    "        if class_name in train_class_distribution:\n",
    "            train_class_distribution[class_name] += 1\n",
    "        else:\n",
    "            train_class_distribution[class_name] = 1\n",
    "#print(train_class_distribution) \n",
    "plot_distribution(train_class_distribution,'Train Dataset Class Distribution')"
   ]
  },
  {
   "cell_type": "code",
   "execution_count": 22,
   "metadata": {},
   "outputs": [
    {
     "name": "stdout",
     "output_type": "stream",
     "text": [
      "{'00007': 450, '00012': 690, '00033': 210, '00022': 120, '00028': 150, '00001': 720, '00038': 690, '00005': 630, '00009': 480, '00013': 720, '00003': 450, '00008': 450, '00036': 120, '00004': 660, '00020': 90, '00011': 420, '00002': 750, '00014': 270, '00034': 120, '00010': 660, '00017': 360, '00029': 90, '00030': 150, '00035': 390, '00023': 150, '00025': 480, '00018': 390, '00000': 60, '00031': 270, '00032': 60, '00021': 90, '00026': 180, '00027': 60, '00006': 150, '00040': 90, '00039': 90, '00015': 210, '00016': 150, '00037': 60, '00024': 90, '00041': 60, '00042': 90, '00019': 60}\n"
     ]
    },
    {
     "data": {
      "image/png": "[encoded data removed]",
      "text/plain": [
       "<Figure size 1000x500 with 1 Axes>"
      ]
     },
     "metadata": {},
     "output_type": "display_data"
    }
   ],
   "source": [
    "test_class_distribution = {}\n",
    "for images, labels in test_ds:\n",
    "    for label in labels.numpy():\n",
    "        class_name = classes[label]\n",
    "        if class_name in test_class_distribution:\n",
    "            test_class_distribution[class_name] += 1\n",
    "        else:\n",
    "            test_class_distribution[class_name] = 1\n",
    "#print(test_class_distribution)         \n",
    "plot_distribution(test_class_distribution,'Test Dataset Class Distribution')"
   ]
  },
  {
   "cell_type": "code",
   "execution_count": 10,
   "metadata": {},
   "outputs": [],
   "source": [
    "train_ds, validation_ds = create_validation_set(train_ds,0.2)"
   ]
  },
  {
   "cell_type": "code",
   "execution_count": 11,
   "metadata": {},
   "outputs": [
    {
     "name": "stdout",
     "output_type": "stream",
     "text": [
      "Number of batches train:  980\n",
      "Number of batches validation:  246\n",
      "Number of batches test:  395\n"
     ]
    }
   ],
   "source": [
    "print('Number of batches train: ', train_ds.cardinality().numpy())\n",
    "print('Number of batches validation: ',validation_ds.cardinality().numpy())\n",
    "print('Number of batches test: ',test_ds.cardinality().numpy())"
   ]
  },
  {
   "cell_type": "code",
   "execution_count": 12,
   "metadata": {},
   "outputs": [
    {
     "name": "stderr",
     "output_type": "stream",
     "text": [
      "c:\\Users\\USER\\Documents\\GitHub\\VCPI-uminho\\computer-vision\\.venv\\lib\\site-packages\\tensorflow\\python\\data\\ops\\structured_function.py:264: UserWarning: Even though the `tf.config.experimental_run_functions_eagerly` option is set, this option does not apply to tf.data functions. To force eager execution of tf.data functions, please use `tf.data.experimental.enable_debug_mode()`.\n",
      "  warnings.warn(\n"
     ]
    }
   ],
   "source": [
    "# Normalize method\n",
    "def normalize(images,labels):\n",
    "    images = tf.cast(images,tf.float32)\n",
    "    images /=255\n",
    "    return images, labels\n",
    "\n",
    "train_ds = train_ds.map(normalize,num_parallel_calls=AUTOTUNE)\n",
    "validation_ds = validation_ds.map(normalize,num_parallel_calls=AUTOTUNE)\n",
    "test_ds = test_ds.map(normalize,num_parallel_calls=AUTOTUNE)\n"
   ]
  },
  {
   "cell_type": "code",
   "execution_count": 13,
   "metadata": {},
   "outputs": [
    {
     "name": "stderr",
     "output_type": "stream",
     "text": [
      "c:\\Users\\USER\\Documents\\GitHub\\VCPI-uminho\\computer-vision\\.venv\\lib\\site-packages\\tensorflow\\python\\data\\ops\\structured_function.py:264: UserWarning: Even though the `tf.config.experimental_run_functions_eagerly` option is set, this option does not apply to tf.data functions. To force eager execution of tf.data functions, please use `tf.data.experimental.enable_debug_mode()`.\n",
      "  warnings.warn(\n"
     ]
    }
   ],
   "source": [
    "def one_hot_encode(image,label):\n",
    "    label = tf.one_hot(label,depth=NUM_CLASSES)\n",
    "    return image, label\n",
    "\n",
    "\n",
    "train_enc_ds = train_ds.map(one_hot_encode,num_parallel_calls=AUTOTUNE)\n",
    "validation_enc_ds = validation_ds.map(one_hot_encode,num_parallel_calls=AUTOTUNE)"
   ]
  },
  {
   "cell_type": "code",
   "execution_count": 14,
   "metadata": {},
   "outputs": [],
   "source": [
    "train_enc_ds = train_enc_ds.cache().shuffle(buffer_size=10200)\n",
    "train_enc_ds = train_enc_ds.cache().prefetch(buffer_size=AUTOTUNE)\n",
    "\n",
    "validation_enc_ds = validation_enc_ds.cache().prefetch(buffer_size=AUTOTUNE)"
   ]
  },
  {
   "cell_type": "code",
   "execution_count": 15,
   "metadata": {},
   "outputs": [],
   "source": [
    "test_enc_ds = test_ds.map(one_hot_encode,num_parallel_calls=AUTOTUNE)\n",
    "test_enc_ds = test_enc_ds.cache().prefetch(buffer_size=AUTOTUNE)"
   ]
  },
  {
   "attachments": {},
   "cell_type": "markdown",
   "metadata": {},
   "source": [
    "### Callback method\n",
    "- Avoiding overfitting\n",
    "- early stopping when validation accuracy no longer drops for a number of epochs\n",
    "- record session to be available on tensorboard.\n",
    "\n",
    "cd into log directory and <: tensorboard --logdir logs/path"
   ]
  },
  {
   "cell_type": "code",
   "execution_count": 21,
   "metadata": {},
   "outputs": [],
   "source": [
    "def prepareCallbacks(path):\n",
    "\n",
    "    file_path = f'{log_and_model_path}/{path}/cp.ckpt'\n",
    "\n",
    "    checkpointer = ModelCheckpoint(filepath= file_path, \n",
    "                                monitor = 'val_accuracy',\n",
    "                                verbose=1, \n",
    "                                save_weights_only=True,\n",
    "                                save_best_only=True)\n",
    "\n",
    "\n",
    "    earlyStopper = EarlyStopping(monitor='val_accuracy', min_delta = 0.0001, patience = 8, verbose = 1)\n",
    "\n",
    "    tbCallBack = TensorBoard(log_dir=f'{log_and_model_path}/{path}_log', histogram_freq=0, write_graph=True, write_images=True)\n",
    "\n",
    "    return file_path, [checkpointer, earlyStopper] #, tbCallBack"
   ]
  },
  {
   "cell_type": "code",
   "execution_count": 28,
   "metadata": {},
   "outputs": [],
   "source": [
    "def model2(classCount, imgSize, channels):\n",
    "    model = Sequential()\n",
    "    model.add(Input(shape=(imgSize, imgSize, channels)))\n",
    "\n",
    "    model.add(Conv2D(64, (5, 5)))         \n",
    "    model.add(BatchNormalization())\n",
    "    model.add(LeakyReLU(alpha=0.01))   \n",
    "    \n",
    "    model.add(Conv2D(64, (5, 5) )) \n",
    "    model.add(BatchNormalization())\n",
    "    model.add(LeakyReLU(alpha=0.01))\n",
    "    model.add(MaxPooling2D(pool_size=(2, 2)))\n",
    "\n",
    "    model.add(Conv2D(64, (5, 5) ) )   \n",
    "    model.add(BatchNormalization())\n",
    "    model.add(LeakyReLU(alpha=0.01))\n",
    "    model.add(MaxPooling2D(pool_size=(2, 2)))\n",
    "    \n",
    "    model.add(Flatten())\n",
    "    model.add(Dense(128))\n",
    "    model.add(LeakyReLU(alpha=0.01))             \n",
    "    model.add(Dropout(0.2))\n",
    "\n",
    "    model.add(Dense(classCount, activation='softmax'))\n",
    "\n",
    "    \n",
    "    opt = Adam(lr=0.0001)\n",
    "    model.compile(optimizer = opt, loss='categorical_crossentropy', metrics=[ 'accuracy'])\n",
    "    return model"
   ]
  },
  {
   "attachments": {},
   "cell_type": "markdown",
   "metadata": {},
   "source": [
    "### Model and stats display"
   ]
  },
  {
   "cell_type": "code",
   "execution_count": 29,
   "metadata": {},
   "outputs": [
    {
     "name": "stdout",
     "output_type": "stream",
     "text": [
      "Model: \"sequential_3\"\n",
      "_________________________________________________________________\n",
      " Layer (type)                Output Shape              Param #   \n",
      "=================================================================\n",
      " conv2d_9 (Conv2D)           (None, 28, 28, 64)        4864      \n",
      "                                                                 \n",
      " batch_normalization_9 (Batc  (None, 28, 28, 64)       256       \n",
      " hNormalization)                                                 \n",
      "                                                                 \n",
      " leaky_re_lu_12 (LeakyReLU)  (None, 28, 28, 64)        0         \n",
      "                                                                 \n",
      " conv2d_10 (Conv2D)          (None, 24, 24, 64)        102464    \n",
      "                                                                 \n",
      " batch_normalization_10 (Bat  (None, 24, 24, 64)       256       \n",
      " chNormalization)                                                \n",
      "                                                                 \n",
      " leaky_re_lu_13 (LeakyReLU)  (None, 24, 24, 64)        0         \n",
      "                                                                 \n",
      " max_pooling2d_6 (MaxPooling  (None, 12, 12, 64)       0         \n",
      " 2D)                                                             \n",
      "                                                                 \n",
      " conv2d_11 (Conv2D)          (None, 8, 8, 64)          102464    \n",
      "                                                                 \n",
      " batch_normalization_11 (Bat  (None, 8, 8, 64)         256       \n",
      " chNormalization)                                                \n",
      "                                                                 \n",
      " leaky_re_lu_14 (LeakyReLU)  (None, 8, 8, 64)          0         \n",
      "                                                                 \n",
      " max_pooling2d_7 (MaxPooling  (None, 4, 4, 64)         0         \n",
      " 2D)                                                             \n",
      "                                                                 \n",
      " flatten_3 (Flatten)         (None, 1024)              0         \n",
      "                                                                 \n",
      " dense_6 (Dense)             (None, 128)               131200    \n",
      "                                                                 \n",
      " leaky_re_lu_15 (LeakyReLU)  (None, 128)               0         \n",
      "                                                                 \n",
      " dropout_3 (Dropout)         (None, 128)               0         \n",
      "                                                                 \n",
      " dense_7 (Dense)             (None, 43)                5547      \n",
      "                                                                 \n",
      "=================================================================\n",
      "Total params: 347,307\n",
      "Trainable params: 346,923\n",
      "Non-trainable params: 384\n",
      "_________________________________________________________________\n",
      "None\n"
     ]
    }
   ],
   "source": [
    "model2 = model2(43, 32, 3)\n",
    "print(model2.summary())"
   ]
  },
  {
   "cell_type": "code",
   "execution_count": 30,
   "metadata": {},
   "outputs": [
    {
     "name": "stdout",
     "output_type": "stream",
     "text": [
      "Epoch 1/40\n",
      "144/980 [===>..........................] - ETA: 1:03 - loss: 2.8107 - accuracy: 0.3029"
     ]
    }
   ],
   "source": [
    "file_pathM2, callbacksM2 = prepareCallbacks('bestM2')\n",
    "\n",
    "historyV2 = model2.fit(train_enc_ds,\n",
    "          epochs=40, \n",
    "          validation_data = validation_enc_ds, \n",
    "          callbacks=callbacksM2)"
   ]
  }
 ],
 "metadata": {
  "kernelspec": {
   "display_name": ".venv",
   "language": "python",
   "name": "python3"
  },
  "language_info": {
   "codemirror_mode": {
    "name": "ipython",
    "version": 3
   },
   "file_extension": ".py",
   "mimetype": "text/x-python",
   "name": "python",
   "nbconvert_exporter": "python",
   "pygments_lexer": "ipython3",
   "version": "3.9.0"
  },
  "orig_nbformat": 4
 },
 "nbformat": 4,
 "nbformat_minor": 2
}
