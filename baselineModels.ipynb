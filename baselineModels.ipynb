{
 "cells": [
  {
   "attachments": {},
   "cell_type": "markdown",
   "metadata": {},
   "source": [
    "# VCPI Group assignment\n",
    "\n",
    "This notebook aims to get the best possible test accuracy on GTSRB - German Traffic Sign Recognition Benchmark :\n",
    "It will use CNN for the task.\n",
    "\n",
    "In this notebook we approach the two-stage data-augmentation first training with original and then together with the data generated"
   ]
  },
  {
   "cell_type": "code",
   "execution_count": 1,
   "metadata": {},
   "outputs": [
    {
     "name": "stdout",
     "output_type": "stream",
     "text": [
      "2.10.0\n",
      "[PhysicalDevice(name='/physical_device:GPU:0', device_type='GPU')]\n"
     ]
    }
   ],
   "source": [
    "import tensorflow as tf\n",
    "from tensorflow import keras\n",
    "from tensorflow.keras.models import Sequential, model_from_json\n",
    "from tensorflow.keras.optimizers import SGD, Adam\n",
    "from tensorflow.keras.callbacks import LearningRateScheduler, ModelCheckpoint,TensorBoard, EarlyStopping\n",
    "from tensorflow.keras.layers import LeakyReLU, BatchNormalization, Conv2D, MaxPooling2D, \\\n",
    "            Dense, Activation, Flatten, Dropout, Input\n",
    "from tensorflow.keras.preprocessing.image import ImageDataGenerator\n",
    "import os\n",
    "import pathlib\n",
    "import numpy as np\n",
    "import matplotlib.pyplot as plt\n",
    "from matplotlib.image import imread\n",
    "from PIL import Image\n",
    "import IPython.display as display\n",
    "\n",
    "import seaborn as sn\n",
    "import pandas as pd\n",
    "import random\n",
    "import glob\n",
    "tf.config.run_functions_eagerly(True)\n",
    "gpus = tf.config.list_physical_devices('GPU')\n",
    "print(tf.__version__)\n",
    "if gpus:\n",
    "    print(gpus)\n",
    "else:\n",
    "    print(\"No GPU available.\")\n",
    "\n",
    "\n",
    "BATCH_SIZE = 32\n",
    "IMAGE_HEIGHT = 32\n",
    "IMAGE_WIDTH = 32"
   ]
  },
  {
   "cell_type": "code",
   "execution_count": 7,
   "metadata": {},
   "outputs": [],
   "source": [
    "data_dir = 'D:/Data-UM/DataVCPI'\n",
    "train_path = 'D:/Data-UM/DataVCPI/train/GTSRB/Final_Training/Images'\n",
    "test_path = 'D:/Data-UM/DataVCPI/test'\n",
    "log_and_model_path = 'logs/model2'"
   ]
  },
  {
   "cell_type": "code",
   "execution_count": 3,
   "metadata": {},
   "outputs": [],
   "source": [
    "train_data_dir=pathlib.Path(train_path)\n",
    "test_data_dir=pathlib.Path(test_path)"
   ]
  },
  {
   "cell_type": "code",
   "execution_count": 5,
   "metadata": {},
   "outputs": [
    {
     "name": "stdout",
     "output_type": "stream",
     "text": [
      "Total image train dataset: 39209\n",
      "Total image test dataset: 12630\n",
      "Number of classes/categories:  43\n"
     ]
    }
   ],
   "source": [
    "#count the numbers of images in your directory\n",
    "train_image_count = len(list(train_data_dir.glob('*/*.png')))\n",
    "test_image_count = len(list(test_data_dir.glob('*/*.png')))\n",
    "\n",
    "print('Total image train dataset:', train_image_count)\n",
    "print('Total image test dataset:',test_image_count)   \n",
    "\n",
    "#Num of categories:\n",
    "NUM_CLASSES = len(os.listdir(train_path))\n",
    "print('Number of classes/categories: ',NUM_CLASSES)         "
   ]
  },
  {
   "cell_type": "code",
   "execution_count": 6,
   "metadata": {},
   "outputs": [],
   "source": [
    "# Label Overview\n",
    "classesNames = { 0:'Speed limit (20km/h)',\n",
    "            1:'Speed limit (30km/h)', \n",
    "            2:'Speed limit (50km/h)', \n",
    "            3:'Speed limit (60km/h)', \n",
    "            4:'Speed limit (70km/h)', \n",
    "            5:'Speed limit (80km/h)', \n",
    "            6:'End of speed limit (80km/h)', \n",
    "            7:'Speed limit (100km/h)', \n",
    "            8:'Speed limit (120km/h)', \n",
    "            9:'No passing', \n",
    "            10:'No passing veh over 3.5 tons', \n",
    "            11:'Right-of-way at intersection', \n",
    "            12:'Priority road', \n",
    "            13:'Yield', \n",
    "            14:'Stop', \n",
    "            15:'No vehicles', \n",
    "            16:'Veh > 3.5 tons prohibited', \n",
    "            17:'No entry', \n",
    "            18:'General caution', \n",
    "            19:'Dangerous curve left', \n",
    "            20:'Dangerous curve right', \n",
    "            21:'Double curve', \n",
    "            22:'Bumpy road', \n",
    "            23:'Slippery road', \n",
    "            24:'Road narrows on the right', \n",
    "            25:'Road work', \n",
    "            26:'Traffic signals', \n",
    "            27:'Pedestrians', \n",
    "            28:'Children crossing', \n",
    "            29:'Bicycles crossing', \n",
    "            30:'Beware of ice/snow',\n",
    "            31:'Wild animals crossing', \n",
    "            32:'End speed + passing limits', \n",
    "            33:'Turn right ahead', \n",
    "            34:'Turn left ahead', \n",
    "            35:'Ahead only', \n",
    "            36:'Go straight or right', \n",
    "            37:'Go straight or left', \n",
    "            38:'Keep right', \n",
    "            39:'Keep left', \n",
    "            40:'Roundabout mandatory', \n",
    "            41:'End of no passing', \n",
    "            42:'End no passing veh > 3.5 tons' }\n",
    "\n",
    "classes = np.array([\n",
    "    '00000', '00001', '00002', '00003', '00004', '00005', '00006', '00007',\n",
    "    '00008', '00009', '00010', '00011', '00012', '00013', '00014', '00015',\n",
    "    '00016', '00017', '00018', '00019', '00020', '00021', '00022', '00023',\n",
    "    '00024', '00025', '00026', '00027', '00028', '00029', '00030', '00031',\n",
    "    '00032', '00033', '00034', '00035', '00036', '00037', '00038', '00039',\n",
    "    '00040', '00041', '00042'\n",
    "])"
   ]
  }
 ],
 "metadata": {
  "kernelspec": {
   "display_name": ".venv",
   "language": "python",
   "name": "python3"
  },
  "language_info": {
   "codemirror_mode": {
    "name": "ipython",
    "version": 3
   },
   "file_extension": ".py",
   "mimetype": "text/x-python",
   "name": "python",
   "nbconvert_exporter": "python",
   "pygments_lexer": "ipython3",
   "version": "3.9.0"
  },
  "orig_nbformat": 4
 },
 "nbformat": 4,
 "nbformat_minor": 2
}
