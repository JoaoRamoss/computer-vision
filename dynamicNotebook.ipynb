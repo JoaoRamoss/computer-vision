{
 "cells": [
  {
   "attachments": {},
   "cell_type": "markdown",
   "metadata": {},
   "source": [
    "# VCPI Group assignment - Dynamic Data augmentation treatment\n",
    "\n",
    "This notebook aims to get the best possible test accuracy on GTSRB - German Traffic Sign Recognition Benchmark :\n",
    "It will use CNN for the task.\n",
    "In this notebook we approach the use of Data Augmentation dynamically, i.e augmentations are applied \"on the fly\" as they are fed into the network during epochs. \n",
    "\n",
    "-For dynamic approach 1 we apply data augmentation using a simple process_image_class function, the training data is load as tf.data.Dataset but with batch_size=None, applying every transformation by image and not by batch.\n",
    "It's worth noting that this method introduces randomness into the training process, which can sometimes make results a bit harder to reproduce exactly. However, the benefit of increased data diversity usually outweighs this downside.\n",
    "\n",
    "-For dynamic approach 2 we apply batching before augment.\n",
    "\n",
    "-For dynamic approach 3 we try a two-phase like data augmentation strategy, first training with original data followed by data augmented\n",
    "\n",
    "-For dynamic approach 4 we apply a massive data augmentation strategy (approached also in class)\n",
    "\n",
    "This notebook version uses batch size has 64.\n"
   ]
  },
  {
   "cell_type": "code",
   "execution_count": 1,
   "metadata": {},
   "outputs": [
    {
     "name": "stderr",
     "output_type": "stream",
     "text": [
      "c:\\Users\\USER\\Documents\\GitHub\\VCPI-uminho\\computer-vision\\.venv\\lib\\site-packages\\tensorflow_addons\\utils\\tfa_eol_msg.py:23: UserWarning: \n",
      "\n",
      "TensorFlow Addons (TFA) has ended development and introduction of new features.\n",
      "TFA has entered a minimal maintenance and release mode until a planned end of life in May 2024.\n",
      "Please modify downstream libraries to take dependencies from other repositories in our TensorFlow community (e.g. Keras, Keras-CV, and Keras-NLP). \n",
      "\n",
      "For more information see: https://github.com/tensorflow/addons/issues/2807 \n",
      "\n",
      "  warnings.warn(\n"
     ]
    },
    {
     "name": "stdout",
     "output_type": "stream",
     "text": [
      "2.10.0\n",
      "[PhysicalDevice(name='/physical_device:GPU:0', device_type='GPU')]\n"
     ]
    }
   ],
   "source": [
    "import tensorflow as tf\n",
    "from tensorflow import keras\n",
    "from tensorflow.keras.models import Sequential, model_from_json\n",
    "from tensorflow.keras.optimizers import SGD, Adam\n",
    "from tensorflow.keras.callbacks import LearningRateScheduler, ModelCheckpoint,TensorBoard, EarlyStopping\n",
    "from tensorflow.keras.layers import LeakyReLU, BatchNormalization, Conv2D, MaxPooling2D, \\\n",
    "            Dense, Activation, Flatten, Dropout, Input\n",
    "from tensorflow.keras.preprocessing.image import ImageDataGenerator\n",
    "import tensorflow_addons as tfa \n",
    "import os\n",
    "import pathlib\n",
    "import numpy as np\n",
    "import matplotlib.pyplot as plt\n",
    "from matplotlib.image import imread\n",
    "from PIL import Image\n",
    "import IPython.display as display\n",
    "\n",
    "import seaborn as sn\n",
    "import pandas as pd\n",
    "import random\n",
    "import glob\n",
    "tf.config.run_functions_eagerly(True)\n",
    "gpus = tf.config.list_physical_devices('GPU')\n",
    "print(tf.__version__)\n",
    "if gpus:\n",
    "    print(gpus)\n",
    "else:\n",
    "    print(\"No GPU available.\")\n",
    "\n",
    "\n",
    "BATCH_SIZE = 64\n",
    "IMAGE_HEIGHT = 32\n",
    "IMAGE_WIDTH = 32"
   ]
  },
  {
   "attachments": {},
   "cell_type": "markdown",
   "metadata": {},
   "source": [
    "### Helpful functions"
   ]
  },
  {
   "cell_type": "code",
   "execution_count": 2,
   "metadata": {},
   "outputs": [],
   "source": [
    "def show_batch(cols, image_batch, label_batch):\n",
    "    rows = int(BATCH_SIZE / cols) \n",
    "    if rows * cols < BATCH_SIZE:\n",
    "        rows += 1\n",
    "    width = 3 * rows\n",
    "    height = 3 * cols\n",
    "    \n",
    "    \n",
    "    f, axes= plt.subplots(rows,cols,figsize=(height,width))\n",
    "    fig=plt.figure()\n",
    "    for n in range(BATCH_SIZE):\n",
    "        \n",
    "        subplot_title=(\"class \"+ classNames[label_batch[n]==1][0])\n",
    "        axes.ravel()[n].set_title(subplot_title)  \n",
    "        axes.ravel()[n].imshow(image_batch[n])\n",
    "        axes.ravel()[n].axis('off')\n",
    "\n",
    "    fig.tight_layout()    \n",
    "    plt.show()\n",
    "    \n",
    "    \n",
    "def show_history(history):\n",
    "    print(history.history.keys())\n",
    "\n",
    "    # summarize history for accuracy\n",
    "    plt.plot(history.history['accuracy'])\n",
    "    plt.plot(history.history['val_accuracy'])\n",
    "    plt.title('model accuracy')\n",
    "    plt.ylabel('accuracy')\n",
    "    plt.xlabel('epoch')\n",
    "    plt.legend(['train', 'val'], loc='lower right')\n",
    "    plt.show()\n",
    "    # summarize history for loss\n",
    "    plt.plot(history.history['loss'])\n",
    "    plt.plot(history.history['val_loss'])\n",
    "    plt.title('model loss')\n",
    "    plt.ylabel('loss')\n",
    "    plt.xlabel('epoch')\n",
    "    plt.legend(['train', 'val'], loc='upper right')\n",
    "    plt.show()    \n",
    "    \n",
    "    \n",
    "def show_accuracies(labels, test, val): \n",
    "\n",
    "    fig, ax = plt.subplots()\n",
    "    X = np.arange(len(test))\n",
    "\n",
    "    plt.bar(X, test, width = 0.4, color = 'b', label='test')\n",
    "    plt.bar(X + 0.4, val, color = 'r', width = 0.4, label = \"val\")\n",
    "    plt.xticks(X + 0.4 / 2, labels)\n",
    "    plt.ylim(top = 1.0, bottom = 0.97)\n",
    "    plt.legend(loc='upper left')\n",
    "    plt.show()\n",
    "\n",
    "\n",
    "def show_data(s1,l1, s2,l2, labels):\n",
    "    fig, ax = plt.subplots()\n",
    "    X = np.arange(len(s1))\n",
    "\n",
    "    models = labels\n",
    "    plt.bar(X, s1, width = 0.4, color = 'b', label=l1)\n",
    "    plt.bar(X + 0.4, s2, color = 'r', width = 0.4, label = l2)\n",
    "    plt.xticks(X + 0.4 / 2, models)\n",
    "    plt.ylim(top = 1-00, bottom = 0.85)\n",
    "    plt.legend(loc='upper left')\n",
    "    plt.show()\n",
    "\n",
    "\n",
    "    \n",
    "def show_misclassified(predictions, ground_truth, images, num_rows= 5, num_cols=3):\n",
    "    # Plot the first X test images with wrong predictions.\n",
    "    num_images = num_rows*num_cols\n",
    "    plt.figure(figsize=(2*2*num_cols, 2*num_rows))\n",
    "    i = 0\n",
    "    k = 0\n",
    "    while k < len(images) and i < num_images:\n",
    "        predicted_label = np.argmax(predictions[k])\n",
    "        gt = np.where(ground_truth[k])[0][0]\n",
    "        if predicted_label != gt:\n",
    "            plt.subplot(num_rows, 2*num_cols, 2*i+1)\n",
    "            plot_image(k, predictions[k], gt, images)\n",
    "            plt.subplot(num_rows, 2*num_cols, 2*i+2)\n",
    "            plot_value_array(k, predictions[k], ground_truth)\n",
    "            i += 1\n",
    "        k += 1\n",
    "    plt.tight_layout()\n",
    "    plt.show()\n",
    "\n",
    "\n",
    "def plot_image(i, predictions_array, true_label, img):\n",
    "  predictions_array, true_label, img = predictions_array, true_label, img[i]\n",
    "  plt.grid(False)\n",
    "  plt.xticks([])\n",
    "  plt.yticks([])\n",
    "\n",
    "  plt.imshow(img, cmap=plt.cm.binary)\n",
    "\n",
    "  predicted_label = np.argmax(predictions_array)\n",
    "  if predicted_label == true_label:\n",
    "    color = 'blue'\n",
    "  else:\n",
    "    color = 'red'\n",
    "\n",
    "  plt.xlabel(\"{} {:2.0f}% ({})\".format(classNames[predicted_label],\n",
    "                                100*np.max(predictions_array),\n",
    "                                classNames[true_label]),\n",
    "                                color=color)\n",
    "\n",
    "def plot_value_array(i, predictions_array, true_label):\n",
    "  predictions_array, true_label = predictions_array, true_label[i]\n",
    "  plt.grid(False)\n",
    "  x_indices = np.where(predictions_array > 0)[0] # only the values greater than 0 are interesting \n",
    "  plt.xticks(x_indices,rotation='vertical')\n",
    "  # old\n",
    "  #plt.xticks(range(43))\n",
    "  plt.yticks([])\n",
    "  thisplot = plt.bar(range(43), predictions_array, color=\"#777777\")\n",
    "  plt.ylim([0, 1])\n",
    "  predicted_label = np.argmax(predictions_array)\n",
    "\n",
    "  thisplot[predicted_label].set_color('red')\n",
    "  thisplot[np.where(true_label)[0][0]].set_color('blue')    \n",
    "\n",
    "def plot_predictions(predictions, ground_truth, images, num_rows= 5, num_cols=3 ):\n",
    "\n",
    "    num_images = num_rows*num_cols\n",
    "    plt.figure(figsize=(2*2*num_cols, 2*num_rows))\n",
    "    for i in range(min(num_images,len(images))):\n",
    "        gt = np.where(ground_truth[i])[0][0]\n",
    "        plt.subplot(num_rows, 2*num_cols, 2*i+1)\n",
    "        plot_image(i, predictions[i], gt, images)\n",
    "        plt.subplot(num_rows, 2*num_cols, 2*i+2)\n",
    "        plot_value_array(i, predictions[i], ground_truth)\n",
    "    plt.tight_layout()\n",
    "    plt.show()\n",
    "    \n",
    "\n",
    "def show_confusion_matrix(model, dataset):\n",
    "   \n",
    "    all_labels = []\n",
    "    all_preds = []\n",
    "\n",
    "    for images , labels in dataset.take(-1):  \n",
    "        numpy_labels = labels.numpy()\n",
    "        numpy_images = images.numpy()\n",
    "        preds = model.predict(numpy_images, verbose=0)  \n",
    "        \n",
    "        all_labels += [np.argmax(x) for x in numpy_labels]\n",
    "        all_preds += [np.argmax(x) for x in preds]\n",
    "        \n",
    "    conf_mat = tf.math.confusion_matrix(all_labels, all_preds)\n",
    "    # create a mask for values above a threshold\n",
    "    annot_mask = conf_mat.numpy() > 50\n",
    "    #conf_mat_norm = conf_mat / conf_mat.sum(axis=1)[:, np.newaxis]\n",
    "\n",
    "    df_cm = pd.DataFrame(conf_mat.numpy(), range(43), range(43))\n",
    "    plt.figure(figsize=(20,15))\n",
    "    sn.set(font_scale=1.4) # for label size\n",
    "    sn.heatmap(df_cm, annot=True, annot_kws={\"size\": 16}, fmt='d',cmap='Blues') # font size\n",
    "\n",
    "    plt.show()\n",
    "\n",
    "    res_correct = {i:0 for i in range(43)}\n",
    "    res_incorrect = {i:0 for i in range(43)}\n",
    "    for i in range(len(all_preds)):\n",
    "        if all_preds[i] == all_labels[i]:\n",
    "            res_correct[all_labels[i]] += 1\n",
    "        else:\n",
    "            res_incorrect[all_labels[i]] += 1\n",
    "\n",
    "    for i in range(len(res_correct)):\n",
    "        print('class: ', i, ' total images: ', res_correct[i] + res_incorrect[i],' % correct: ', res_correct[i] / (res_correct[i] + res_incorrect[i]))\n",
    "        \n",
    "        \n",
    "        \n",
    "def plot_distribution(class_distribution, title):\n",
    "    classes = list(class_distribution.keys())\n",
    "    counts = list(class_distribution.values())\n",
    "\n",
    "    plt.figure(figsize=(10, 5))\n",
    "    plt.bar(classes, counts)\n",
    "    plt.xlabel('Class')\n",
    "    plt.ylabel('Count')\n",
    "    plt.title(title)\n",
    "    plt.xticks(rotation=90)  # rotate x-axis labels for readability\n",
    "    plt.show()\n",
    "    \n",
    "# get height, width and labels from dataset\n",
    "def inspect_dataset(dataset):\n",
    "    height = []\n",
    "    width = []\n",
    "    labels = {}\n",
    "    for sample in dataset:\n",
    "        shape = sample[0].shape\n",
    "        height.append(shape[0])\n",
    "        width.append(shape[1])\n",
    "        sample_labels = sample[1].numpy()\n",
    "        for label in sample_labels:\n",
    "            cur_count = labels.get(label,0)\n",
    "            labels[label]= cur_count + 1\n",
    "\n",
    "    return height, width, labels\n",
    "\n",
    "def plot_histograms(lens, subtitle):\n",
    "    fig = plt.figure(1, figsize=(10, 5))\n",
    "    ax1 = plt.subplot(1, 2, 1)\n",
    "    plt.hist(lens, bins=50)\n",
    "    plt.title(\"Length\")\n",
    "    plt.ylabel(\"Number of samples\")\n",
    "    ax1.tick_params('x', labelrotation=-45)\n",
    "    ax2 = plt.subplot(1, 2, 2)\n",
    "    plt.hist(lens, bins=20, cumulative=True)\n",
    "    plt.title(\"Cumulative lengths\")\n",
    "    ax2.tick_params('x', labelrotation=-45)\n",
    "    plt.subplots_adjust(bottom=0.2)"
   ]
  },
  {
   "cell_type": "code",
   "execution_count": 3,
   "metadata": {},
   "outputs": [],
   "source": [
    "data_dir = 'D:/Data-UM/DataVCPI'\n",
    "train_path = 'D:/Data-UM/DataVCPI/train/GTSRB/Final_Training/Images'\n",
    "test_path = 'D:/Data-UM/DataVCPI/test'\n",
    "log_and_model_pathS = 'logs/dynamicLogs/modelS'\n",
    "log_and_model_pathK = 'logs/dynamicLogs/modelK'\n",
    "log_and_model_pathGr = 'logs/dynamicLogs/modelGr'"
   ]
  },
  {
   "cell_type": "code",
   "execution_count": 4,
   "metadata": {},
   "outputs": [],
   "source": [
    "train_data_dir=pathlib.Path(train_path)\n",
    "test_data_dir=pathlib.Path(test_path)"
   ]
  },
  {
   "cell_type": "code",
   "execution_count": 5,
   "metadata": {},
   "outputs": [
    {
     "name": "stdout",
     "output_type": "stream",
     "text": [
      "Total image train dataset: 39209\n",
      "Total image test dataset: 12630\n",
      "Number of classes/categories:  43\n"
     ]
    }
   ],
   "source": [
    "#count the numbers of images in your directory\n",
    "train_image_count = len(list(train_data_dir.glob('*/*.png')))\n",
    "test_image_count = len(list(test_data_dir.glob('*/*.png')))\n",
    "\n",
    "print('Total image train dataset:', train_image_count)\n",
    "print('Total image test dataset:',test_image_count)   \n",
    "\n",
    "#Num of categories:\n",
    "NUM_CLASSES = len(os.listdir(train_path))\n",
    "print('Number of classes/categories: ',NUM_CLASSES)         "
   ]
  },
  {
   "cell_type": "code",
   "execution_count": 7,
   "metadata": {},
   "outputs": [],
   "source": [
    "# Label Overview\n",
    "classNames = { 0:'Speed limit (20km/h)',\n",
    "            1:'Speed limit (30km/h)', \n",
    "            2:'Speed limit (50km/h)', \n",
    "            3:'Speed limit (60km/h)', \n",
    "            4:'Speed limit (70km/h)', \n",
    "            5:'Speed limit (80km/h)', \n",
    "            6:'End of speed limit (80km/h)', \n",
    "            7:'Speed limit (100km/h)', \n",
    "            8:'Speed limit (120km/h)', \n",
    "            9:'No passing', \n",
    "            10:'No passing veh over 3.5 tons', \n",
    "            11:'Right-of-way at intersection', \n",
    "            12:'Priority road', \n",
    "            13:'Yield', \n",
    "            14:'Stop', \n",
    "            15:'No vehicles', \n",
    "            16:'Veh > 3.5 tons prohibited', \n",
    "            17:'No entry', \n",
    "            18:'General caution', \n",
    "            19:'Dangerous curve left', \n",
    "            20:'Dangerous curve right', \n",
    "            21:'Double curve', \n",
    "            22:'Bumpy road', \n",
    "            23:'Slippery road', \n",
    "            24:'Road narrows on the right', \n",
    "            25:'Road work', \n",
    "            26:'Traffic signals', \n",
    "            27:'Pedestrians', \n",
    "            28:'Children crossing', \n",
    "            29:'Bicycles crossing', \n",
    "            30:'Beware of ice/snow',\n",
    "            31:'Wild animals crossing', \n",
    "            32:'End speed + passing limits', \n",
    "            33:'Turn right ahead', \n",
    "            34:'Turn left ahead', \n",
    "            35:'Ahead only', \n",
    "            36:'Go straight or right', \n",
    "            37:'Go straight or left', \n",
    "            38:'Keep right', \n",
    "            39:'Keep left', \n",
    "            40:'Roundabout mandatory', \n",
    "            41:'End of no passing', \n",
    "            42:'End no passing veh > 3.5 tons' }\n",
    "\n",
    "classes = np.array([\n",
    "    '00000', '00001', '00002', '00003', '00004', '00005', '00006', '00007',\n",
    "    '00008', '00009', '00010', '00011', '00012', '00013', '00014', '00015',\n",
    "    '00016', '00017', '00018', '00019', '00020', '00021', '00022', '00023',\n",
    "    '00024', '00025', '00026', '00027', '00028', '00029', '00030', '00031',\n",
    "    '00032', '00033', '00034', '00035', '00036', '00037', '00038', '00039',\n",
    "    '00040', '00041', '00042'\n",
    "])"
   ]
  },
  {
   "cell_type": "code",
   "execution_count": 29,
   "metadata": {},
   "outputs": [],
   "source": [
    "height, width, labels= inspect_dataset(train_ds)"
   ]
  },
  {
   "attachments": {},
   "cell_type": "markdown",
   "metadata": {},
   "source": [
    "#### Lets test some augmentation functions applied to different types of transformation:\n",
    "- Geometric transformations: such as applying rotations or translations into the images.\n",
    "- Brightness and contrast adjustments\n",
    "- Adding noise\n",
    "- Flipping (eventually not needed)\n",
    "\n",
    "The use of tfa library give you a lot more control and can be more flexible. (although it will be deprecated soon).\n",
    "\n",
    "##### On performing data augmentation before and after batching there are some considerations:\n",
    "- Computational Efficiency: Data augmentation can be computationally expensive. By performing augmentation after batching, you can leverage parallel computing to process multiple images at once. This can significantly reduce training time, especially when using GPUs.\n",
    "\n",
    "- Variability: When performing augmentation before batching, every image in every batch will be different at each epoch because the transformations will be applied anew each time the image is accessed. Which allows for an increase on the variability of the data the model sees during training, potentially improving the model's ability to generalize to unseen data.\n"
   ]
  },
  {
   "attachments": {},
   "cell_type": "markdown",
   "metadata": {},
   "source": [
    "### Dynamic approach 1 - Load the dataset into preprocessing and apply data augmentation before batching\n",
    "\n",
    "Check that in this step we do not batch the train dataset before applying any augmentation process or transformation since we want the type of transformations to be processed into the whole dataset and not batch specifically."
   ]
  },
  {
   "cell_type": "code",
   "execution_count": 8,
   "metadata": {},
   "outputs": [
    {
     "name": "stdout",
     "output_type": "stream",
     "text": [
      "Found 39209 files belonging to 43 classes.\n"
     ]
    },
    {
     "name": "stderr",
     "output_type": "stream",
     "text": [
      "c:\\Users\\USER\\Documents\\GitHub\\VCPI-uminho\\computer-vision\\.venv\\lib\\site-packages\\tensorflow\\python\\data\\ops\\structured_function.py:264: UserWarning: Even though the `tf.config.experimental_run_functions_eagerly` option is set, this option does not apply to tf.data functions. To force eager execution of tf.data functions, please use `tf.data.experimental.enable_debug_mode()`.\n",
      "  warnings.warn(\n"
     ]
    },
    {
     "name": "stdout",
     "output_type": "stream",
     "text": [
      "Found 12630 files belonging to 43 classes.\n"
     ]
    }
   ],
   "source": [
    "### Load the dataset into preprocessing\n",
    "# Use keras.preprocessing method to load data from the directory\n",
    "train_ds = tf.keras.preprocessing.image_dataset_from_directory(\n",
    "    train_data_dir,\n",
    "    seed=123,\n",
    "    image_size=(IMAGE_HEIGHT, IMAGE_WIDTH),\n",
    "    batch_size=None,\n",
    "    label_mode='categorical',\n",
    "    shuffle=True)\n",
    "\n",
    "test_ds = tf.keras.preprocessing.image_dataset_from_directory(\n",
    "    test_data_dir,\n",
    "    seed=123,\n",
    "    image_size=(IMAGE_HEIGHT, IMAGE_WIDTH),\n",
    "    label_mode='categorical',\n",
    "    batch_size=BATCH_SIZE)\n",
    "\n",
    "\n",
    "AUTOTUNE = tf.data.AUTOTUNE  #adjust the amount of parallelism depending on the available system resources"
   ]
  },
  {
   "attachments": {},
   "cell_type": "markdown",
   "metadata": {},
   "source": [
    "### Train and test class distribution"
   ]
  },
  {
   "cell_type": "code",
   "execution_count": 11,
   "metadata": {},
   "outputs": [
    {
     "ename": "IndexError",
     "evalue": "only integers, slices (`:`), ellipsis (`...`), numpy.newaxis (`None`) and integer or boolean arrays are valid indices",
     "output_type": "error",
     "traceback": [
      "\u001b[1;31m---------------------------------------------------------------------------\u001b[0m",
      "\u001b[1;31mIndexError\u001b[0m                                Traceback (most recent call last)",
      "Cell \u001b[1;32mIn[11], line 5\u001b[0m\n\u001b[0;32m      3\u001b[0m \u001b[39mfor\u001b[39;00m images, labels \u001b[39min\u001b[39;00m train_ds1:\n\u001b[0;32m      4\u001b[0m     \u001b[39mfor\u001b[39;00m label \u001b[39min\u001b[39;00m labels\u001b[39m.\u001b[39mnumpy():\n\u001b[1;32m----> 5\u001b[0m         class_name \u001b[39m=\u001b[39m classes[label]\n\u001b[0;32m      6\u001b[0m         \u001b[39mif\u001b[39;00m class_name \u001b[39min\u001b[39;00m train_class_distribution:\n\u001b[0;32m      7\u001b[0m             train_class_distribution[class_name] \u001b[39m+\u001b[39m\u001b[39m=\u001b[39m \u001b[39m1\u001b[39m\n",
      "\u001b[1;31mIndexError\u001b[0m: only integers, slices (`:`), ellipsis (`...`), numpy.newaxis (`None`) and integer or boolean arrays are valid indices"
     ]
    }
   ],
   "source": [
    "train_class_distribution = {}\n",
    "\n",
    "for images, labels in train_ds:\n",
    "    for label in labels.numpy():\n",
    "        class_name = classes[label]\n",
    "        if class_name in train_class_distribution:\n",
    "            train_class_distribution[class_name] += 1\n",
    "        else:\n",
    "            train_class_distribution[class_name] = 1\n",
    "#print(train_class_distribution) \n",
    "plot_distribution(train_class_distribution,'Train Dataset Class Distribution')"
   ]
  },
  {
   "cell_type": "code",
   "execution_count": 12,
   "metadata": {},
   "outputs": [
    {
     "ename": "IndexError",
     "evalue": "arrays used as indices must be of integer (or boolean) type",
     "output_type": "error",
     "traceback": [
      "\u001b[1;31m---------------------------------------------------------------------------\u001b[0m",
      "\u001b[1;31mIndexError\u001b[0m                                Traceback (most recent call last)",
      "Cell \u001b[1;32mIn[12], line 4\u001b[0m\n\u001b[0;32m      2\u001b[0m \u001b[39mfor\u001b[39;00m images, labels \u001b[39min\u001b[39;00m test_ds:\n\u001b[0;32m      3\u001b[0m     \u001b[39mfor\u001b[39;00m label \u001b[39min\u001b[39;00m labels\u001b[39m.\u001b[39mnumpy():\n\u001b[1;32m----> 4\u001b[0m         class_name \u001b[39m=\u001b[39m classes[label]\n\u001b[0;32m      5\u001b[0m         \u001b[39mif\u001b[39;00m class_name \u001b[39min\u001b[39;00m test_class_distribution:\n\u001b[0;32m      6\u001b[0m             test_class_distribution[class_name] \u001b[39m+\u001b[39m\u001b[39m=\u001b[39m \u001b[39m1\u001b[39m\n",
      "\u001b[1;31mIndexError\u001b[0m: arrays used as indices must be of integer (or boolean) type"
     ]
    }
   ],
   "source": [
    "test_class_distribution = {}\n",
    "for images, labels in test_ds:\n",
    "    for label in labels.numpy():\n",
    "        class_name = classes[label]\n",
    "        if class_name in test_class_distribution:\n",
    "            test_class_distribution[class_name] += 1\n",
    "        else:\n",
    "            test_class_distribution[class_name] = 1\n",
    "#print(test_class_distribution)         \n",
    "plot_distribution(test_class_distribution,'Test Dataset Class Distribution')"
   ]
  },
  {
   "attachments": {},
   "cell_type": "markdown",
   "metadata": {},
   "source": [
    "##### process_image_class definition for Dynamic approach 1\n",
    "Start with simple process_image form class"
   ]
  },
  {
   "cell_type": "code",
   "execution_count": 9,
   "metadata": {},
   "outputs": [],
   "source": [
    "def process_image_class(image,label):\n",
    "    # random rotate 5 degrees\n",
    "    r = tf.random.uniform(shape=(), minval=-0.175, maxval=0.175, dtype=tf.dtypes.float32)\n",
    "    image = tfa.image.rotate(image, r)\n",
    "\n",
    "    # translate image up to 10%\n",
    "    rx = tf.random.uniform(shape=(), minval=-3, maxval=3, dtype=tf.dtypes.float32) \n",
    "    ry = tf.random.uniform(shape=(), minval=-3, maxval=3, dtype=tf.dtypes.float32) \n",
    "    image = tfa.image.translate(image, [rx, ry])\n",
    "    \n",
    "   \n",
    "    # change hue, saturation and value\n",
    "    image = tfa.image.random_hsv_in_yiq(image, 0.2, 0.4, 1.1, 0.4, 1.1)\n",
    "    image = tf.clip_by_value(image,0,1)\n",
    "\n",
    "    return image, label"
   ]
  },
  {
   "attachments": {},
   "cell_type": "markdown",
   "metadata": {},
   "source": [
    "#### process_image_class definition for Dynamic approach 2\n",
    "Applying extra transformation such as zoom on the images and shearing"
   ]
  },
  {
   "cell_type": "code",
   "execution_count": 42,
   "metadata": {},
   "outputs": [],
   "source": [
    "def process_image(image,label):\n",
    "    rotation_range_rad = np.deg2rad(10)\n",
    "    r = tf.random.uniform(shape=(), minval=-rotation_range_rad, maxval=rotation_range_rad, dtype=tf.dtypes.float32)\n",
    "    image = tfa.image.rotate(image, r)\n",
    "    \n",
    "    rx = tf.random.uniform(shape=(), minval=-0.1*IMAGE_WIDTH, maxval=0.1*IMAGE_WIDTH)\n",
    "    ry = tf.random.uniform(shape=(), minval=-0.1*IMAGE_HEIGHT, maxval=0.1*IMAGE_HEIGHT)\n",
    "    image = tfa.image.translate(image, [rx, ry])\n",
    "    \n",
    "    #Zoom\n",
    "    zoom_range = 0.15\n",
    "    zx = tf.random.uniform([], 1-zoom_range, 1+zoom_range)\n",
    "    zy = tf.random.uniform([], 1-zoom_range, 1+zoom_range)\n",
    "    zoom_matrix = tf.reshape([zx, 0., 0., 0., zy, 0., 0., 0.], [2, 4])\n",
    "    zoom_matrix = tf.reshape(zoom_matrix, [-1])\n",
    "    image = tfa.image.transform(image, zoom_matrix)\n",
    "    image = tf.image.resize(image, [IMAGE_HEIGHT, IMAGE_WIDTH])\n",
    "    \n",
    "    # Shearing\n",
    "    shear_x = tf.random.uniform([], -0.15, 0.15)\n",
    "    shear_y = tf.random.uniform([], -0.15, 0.15)\n",
    "    shear_matrix = tf.reshape(tf.stack([1., shear_x, 0., shear_y, 1., 0., 0., 0.]), (2, 4))\n",
    "    shear_matrix = tf.reshape(shear_matrix, [-1])\n",
    "    image = tfa.image.transform(image, shear_matrix)  \n",
    "    image = tf.image.resize(image, [IMAGE_HEIGHT, IMAGE_WIDTH])\n",
    "    \n",
    "    return image,label\n",
    "    \n",
    "    "
   ]
  },
  {
   "attachments": {},
   "cell_type": "markdown",
   "metadata": {},
   "source": [
    "### Create the validation dataset"
   ]
  },
  {
   "cell_type": "code",
   "execution_count": 10,
   "metadata": {},
   "outputs": [],
   "source": [
    "def create_validation_set(train_ds, validation_ratio):\n",
    "    train_split = 1.0-validation_ratio\n",
    "    train_size = int(train_split * train_image_count)\n",
    "    train_ds = train_ds.shuffle(buffer_size=train_image_count)\n",
    "\n",
    "    # Create the validation dataset\n",
    "    validation_ds = train_ds.skip(train_size)\n",
    "    train_ds_subset = train_ds.take(train_size)\n",
    "    \n",
    "    return train_ds_subset,validation_ds"
   ]
  },
  {
   "cell_type": "code",
   "execution_count": 11,
   "metadata": {},
   "outputs": [],
   "source": [
    "train_ds, validation_ds = create_validation_set(train_ds,0.2)"
   ]
  },
  {
   "cell_type": "code",
   "execution_count": 17,
   "metadata": {},
   "outputs": [
    {
     "name": "stdout",
     "output_type": "stream",
     "text": [
      "(32, 32, 3)\n",
      "(43,)\n"
     ]
    }
   ],
   "source": [
    "for images, labels in train_ds.take(1):\n",
    "    print(images.shape)\n",
    "    print(labels.shape)"
   ]
  },
  {
   "cell_type": "code",
   "execution_count": 18,
   "metadata": {},
   "outputs": [
    {
     "name": "stdout",
     "output_type": "stream",
     "text": [
      "<TakeDataset element_spec=(TensorSpec(shape=(32, 32, 3), dtype=tf.float32, name=None), TensorSpec(shape=(43,), dtype=tf.float32, name=None))>\n"
     ]
    }
   ],
   "source": [
    "print(train_ds.take(1))"
   ]
  },
  {
   "attachments": {},
   "cell_type": "markdown",
   "metadata": {},
   "source": [
    "As we are loading the images with 'batch_size=None' we do ot possess data organized in batches yet, to expand the variability of images when applying other functions to the data"
   ]
  },
  {
   "cell_type": "code",
   "execution_count": 19,
   "metadata": {},
   "outputs": [
    {
     "name": "stdout",
     "output_type": "stream",
     "text": [
      "Number of images train:  31367\n",
      "Number of images validation:  7842\n",
      "Number of images test:  198\n"
     ]
    }
   ],
   "source": [
    "print('Number of images train: ', train_ds.cardinality().numpy())\n",
    "print('Number of images validation: ',validation_ds.cardinality().numpy())\n",
    "print('Number of images test: ',test_ds.cardinality().numpy())"
   ]
  },
  {
   "cell_type": "code",
   "execution_count": 20,
   "metadata": {},
   "outputs": [
    {
     "name": "stderr",
     "output_type": "stream",
     "text": [
      "c:\\Users\\USER\\Documents\\GitHub\\VCPI-uminho\\computer-vision\\.venv\\lib\\site-packages\\tensorflow\\python\\data\\ops\\structured_function.py:264: UserWarning: Even though the `tf.config.experimental_run_functions_eagerly` option is set, this option does not apply to tf.data functions. To force eager execution of tf.data functions, please use `tf.data.experimental.enable_debug_mode()`.\n",
      "  warnings.warn(\n"
     ]
    }
   ],
   "source": [
    "# Normalize method\n",
    "def normalize(images,labels):\n",
    "    images = tf.cast(images,tf.float32)\n",
    "    images /=255\n",
    "    return images, labels\n",
    "\n",
    "train_ds = train_ds.map(normalize,num_parallel_calls=AUTOTUNE)\n",
    "validation_ds = validation_ds.map(normalize,num_parallel_calls=AUTOTUNE)\n",
    "test_ds = test_ds.map(normalize,num_parallel_calls=AUTOTUNE)\n"
   ]
  },
  {
   "cell_type": "code",
   "execution_count": 21,
   "metadata": {},
   "outputs": [],
   "source": [
    "trainA_ds = train_ds\n",
    "trainA_ds = trainA_ds.cache()\n",
    "trainA_ds = trainA_ds.shuffle(buffer_size=train_image_count)\n",
    "trainA_ds = trainA_ds.map(process_image_class)\n",
    "trainA_ds = trainA_ds.prefetch(buffer_size=10200)\n",
    "trainA_ds = trainA_ds.batch(batch_size=BATCH_SIZE)"
   ]
  },
  {
   "cell_type": "code",
   "execution_count": 22,
   "metadata": {},
   "outputs": [],
   "source": [
    "validation_ds = validation_ds.cache().prefetch(buffer_size=AUTOTUNE)\n",
    "validation_ds = validation_ds.cache().batch(batch_size=BATCH_SIZE)"
   ]
  },
  {
   "cell_type": "code",
   "execution_count": 37,
   "metadata": {},
   "outputs": [],
   "source": [
    "test_ds = test_ds.cache().prefetch(buffer_size=AUTOTUNE)"
   ]
  },
  {
   "cell_type": "code",
   "execution_count": 38,
   "metadata": {},
   "outputs": [
    {
     "name": "stdout",
     "output_type": "stream",
     "text": [
      "Number of batches train:  491\n",
      "Number of batches validation:  123\n",
      "Number of batches test:  198\n"
     ]
    }
   ],
   "source": [
    "print('Number of batches train: ', trainA_ds.cardinality().numpy())\n",
    "print('Number of batches validation: ',validation_ds.cardinality().numpy())\n",
    "print('Number of batches test: ',test_ds.cardinality().numpy())"
   ]
  },
  {
   "attachments": {},
   "cell_type": "markdown",
   "metadata": {},
   "source": [
    "### Callback method\n",
    "- Avoiding overfitting\n",
    "- early stopping when validation accuracy no longer drops for a number of epochs\n",
    "- record session to be available on tensorboard.\n",
    "\n",
    "cd into log directory and <: tensorboard --logdir logs/path"
   ]
  },
  {
   "cell_type": "code",
   "execution_count": 23,
   "metadata": {},
   "outputs": [],
   "source": [
    "def prepareCallbacks(path,log_and_model_path):\n",
    "\n",
    "    file_path = f'{log_and_model_path}/{path}/cp.ckpt'\n",
    "\n",
    "    checkpointer = ModelCheckpoint(filepath= file_path, \n",
    "                                monitor = 'val_accuracy',\n",
    "                                verbose=1, \n",
    "                                save_weights_only=True,\n",
    "                                save_best_only=True)\n",
    "\n",
    "\n",
    "    earlyStopper = EarlyStopping(monitor='val_accuracy', min_delta = 0.0001, patience = 8, verbose = 1)\n",
    "\n",
    "    tbCallBack = TensorBoard(log_dir=f'{log_and_model_path}/{path}_log', histogram_freq=0, write_graph=True, write_images=True)\n",
    "\n",
    "    return file_path, [checkpointer, earlyStopper, tbCallBack] #, tbCallBack"
   ]
  },
  {
   "attachments": {},
   "cell_type": "markdown",
   "metadata": {},
   "source": [
    "## Model 1 - ModelS (model2 from the classes)"
   ]
  },
  {
   "cell_type": "code",
   "execution_count": 24,
   "metadata": {},
   "outputs": [],
   "source": [
    "def modelS(classCount, imgSize, channels):\n",
    "    model = Sequential()\n",
    "    model.add(Input(shape=(imgSize, imgSize, channels)))\n",
    "\n",
    "    model.add(Conv2D(64, (5, 5)))         \n",
    "    model.add(BatchNormalization())\n",
    "    model.add(LeakyReLU(alpha=0.01))   \n",
    "    \n",
    "    model.add(Conv2D(64, (5, 5) )) \n",
    "    model.add(BatchNormalization())\n",
    "    model.add(LeakyReLU(alpha=0.01))\n",
    "    model.add(MaxPooling2D(pool_size=(2, 2)))\n",
    "\n",
    "    model.add(Conv2D(64, (5, 5) ) )   \n",
    "    model.add(BatchNormalization())\n",
    "    model.add(LeakyReLU(alpha=0.01))\n",
    "    model.add(MaxPooling2D(pool_size=(2, 2)))\n",
    "    \n",
    "    model.add(Flatten())\n",
    "    model.add(Dense(128))\n",
    "    model.add(LeakyReLU(alpha=0.01))             \n",
    "    model.add(Dropout(0.2))\n",
    "\n",
    "    model.add(Dense(classCount, activation='softmax'))\n",
    "\n",
    "    \n",
    "    opt = Adam(lr=0.0001)\n",
    "    model.compile(optimizer = opt, loss='categorical_crossentropy', metrics=[ 'accuracy'])\n",
    "    return model"
   ]
  },
  {
   "attachments": {},
   "cell_type": "markdown",
   "metadata": {},
   "source": [
    "### Model and stats display"
   ]
  },
  {
   "cell_type": "code",
   "execution_count": 25,
   "metadata": {},
   "outputs": [
    {
     "name": "stdout",
     "output_type": "stream",
     "text": [
      "Model: \"sequential\"\n",
      "_________________________________________________________________\n",
      " Layer (type)                Output Shape              Param #   \n",
      "=================================================================\n",
      " conv2d (Conv2D)             (None, 28, 28, 64)        4864      \n",
      "                                                                 \n",
      " batch_normalization (BatchN  (None, 28, 28, 64)       256       \n",
      " ormalization)                                                   \n",
      "                                                                 \n",
      " leaky_re_lu (LeakyReLU)     (None, 28, 28, 64)        0         \n",
      "                                                                 \n",
      " conv2d_1 (Conv2D)           (None, 24, 24, 64)        102464    \n",
      "                                                                 \n",
      " batch_normalization_1 (Batc  (None, 24, 24, 64)       256       \n",
      " hNormalization)                                                 \n",
      "                                                                 \n",
      " leaky_re_lu_1 (LeakyReLU)   (None, 24, 24, 64)        0         \n",
      "                                                                 \n",
      " max_pooling2d (MaxPooling2D  (None, 12, 12, 64)       0         \n",
      " )                                                               \n",
      "                                                                 \n",
      " conv2d_2 (Conv2D)           (None, 8, 8, 64)          102464    \n",
      "                                                                 \n",
      " batch_normalization_2 (Batc  (None, 8, 8, 64)         256       \n",
      " hNormalization)                                                 \n",
      "                                                                 \n",
      " leaky_re_lu_2 (LeakyReLU)   (None, 8, 8, 64)          0         \n",
      "                                                                 \n",
      " max_pooling2d_1 (MaxPooling  (None, 4, 4, 64)         0         \n",
      " 2D)                                                             \n",
      "                                                                 \n",
      " flatten (Flatten)           (None, 1024)              0         \n",
      "                                                                 \n",
      " dense (Dense)               (None, 128)               131200    \n",
      "                                                                 \n",
      " leaky_re_lu_3 (LeakyReLU)   (None, 128)               0         \n",
      "                                                                 \n",
      " dropout (Dropout)           (None, 128)               0         \n",
      "                                                                 \n",
      " dense_1 (Dense)             (None, 43)                5547      \n",
      "                                                                 \n",
      "=================================================================\n",
      "Total params: 347,307\n",
      "Trainable params: 346,923\n",
      "Non-trainable params: 384\n",
      "_________________________________________________________________\n",
      "None\n"
     ]
    },
    {
     "name": "stderr",
     "output_type": "stream",
     "text": [
      "c:\\Users\\USER\\Documents\\GitHub\\VCPI-uminho\\computer-vision\\.venv\\lib\\site-packages\\keras\\optimizers\\optimizer_v2\\adam.py:114: UserWarning: The `lr` argument is deprecated, use `learning_rate` instead.\n",
      "  super().__init__(name, **kwargs)\n"
     ]
    }
   ],
   "source": [
    "modelS = modelS(43, 32, 3)\n",
    "print(modelS.summary())"
   ]
  },
  {
   "cell_type": "code",
   "execution_count": 26,
   "metadata": {},
   "outputs": [],
   "source": [
    "file_pathMS, callbacksMS = prepareCallbacks('dynamic1',log_and_model_pathS)"
   ]
  },
  {
   "cell_type": "code",
   "execution_count": 27,
   "metadata": {},
   "outputs": [
    {
     "name": "stdout",
     "output_type": "stream",
     "text": [
      "Epoch 1/50\n",
      "491/491 [==============================] - ETA: 0s - loss: 2.4530 - accuracy: 0.3537\n",
      "Epoch 1: val_accuracy improved from -inf to 0.68681, saving model to logs/dynamicLogs/modelS/dynamic1\\cp.ckpt\n",
      "491/491 [==============================] - 69s 105ms/step - loss: 2.4530 - accuracy: 0.3537 - val_loss: 1.3987 - val_accuracy: 0.6868\n",
      "Epoch 2/50\n",
      "491/491 [==============================] - ETA: 0s - loss: 1.2650 - accuracy: 0.6439\n",
      "Epoch 2: val_accuracy improved from 0.68681 to 0.87414, saving model to logs/dynamicLogs/modelS/dynamic1\\cp.ckpt\n",
      "491/491 [==============================] - 38s 78ms/step - loss: 1.2650 - accuracy: 0.6439 - val_loss: 0.4377 - val_accuracy: 0.8741\n",
      "Epoch 3/50\n",
      "491/491 [==============================] - ETA: 0s - loss: 0.8303 - accuracy: 0.7612\n",
      "Epoch 3: val_accuracy improved from 0.87414 to 0.95371, saving model to logs/dynamicLogs/modelS/dynamic1\\cp.ckpt\n",
      "491/491 [==============================] - 35s 70ms/step - loss: 0.8303 - accuracy: 0.7612 - val_loss: 0.2064 - val_accuracy: 0.9537\n",
      "Epoch 4/50\n",
      "491/491 [==============================] - ETA: 0s - loss: 0.5948 - accuracy: 0.8310\n",
      "Epoch 4: val_accuracy did not improve from 0.95371\n",
      "491/491 [==============================] - 35s 71ms/step - loss: 0.5948 - accuracy: 0.8310 - val_loss: 0.1723 - val_accuracy: 0.9522\n",
      "Epoch 5/50\n",
      "491/491 [==============================] - ETA: 0s - loss: 0.4532 - accuracy: 0.8713\n",
      "Epoch 5: val_accuracy improved from 0.95371 to 0.98266, saving model to logs/dynamicLogs/modelS/dynamic1\\cp.ckpt\n",
      "491/491 [==============================] - 37s 76ms/step - loss: 0.4532 - accuracy: 0.8713 - val_loss: 0.0834 - val_accuracy: 0.9827\n",
      "Epoch 6/50\n",
      "491/491 [==============================] - ETA: 0s - loss: 0.3666 - accuracy: 0.8980\n",
      "Epoch 6: val_accuracy improved from 0.98266 to 0.98521, saving model to logs/dynamicLogs/modelS/dynamic1\\cp.ckpt\n",
      "491/491 [==============================] - 38s 78ms/step - loss: 0.3666 - accuracy: 0.8980 - val_loss: 0.0661 - val_accuracy: 0.9852\n",
      "Epoch 7/50\n",
      "491/491 [==============================] - ETA: 0s - loss: 0.3007 - accuracy: 0.9144\n",
      "Epoch 7: val_accuracy improved from 0.98521 to 0.98661, saving model to logs/dynamicLogs/modelS/dynamic1\\cp.ckpt\n",
      "491/491 [==============================] - 41s 83ms/step - loss: 0.3007 - accuracy: 0.9144 - val_loss: 0.0551 - val_accuracy: 0.9866\n",
      "Epoch 8/50\n",
      "491/491 [==============================] - ETA: 0s - loss: 0.2568 - accuracy: 0.9271\n",
      "Epoch 8: val_accuracy improved from 0.98661 to 0.98878, saving model to logs/dynamicLogs/modelS/dynamic1\\cp.ckpt\n",
      "491/491 [==============================] - 38s 77ms/step - loss: 0.2568 - accuracy: 0.9271 - val_loss: 0.0458 - val_accuracy: 0.9888\n",
      "Epoch 9/50\n",
      "491/491 [==============================] - ETA: 0s - loss: 0.2239 - accuracy: 0.9359\n",
      "Epoch 9: val_accuracy improved from 0.98878 to 0.99311, saving model to logs/dynamicLogs/modelS/dynamic1\\cp.ckpt\n",
      "491/491 [==============================] - 37s 75ms/step - loss: 0.2239 - accuracy: 0.9359 - val_loss: 0.0313 - val_accuracy: 0.9931\n",
      "Epoch 10/50\n",
      "491/491 [==============================] - ETA: 0s - loss: 0.1972 - accuracy: 0.9451\n",
      "Epoch 10: val_accuracy improved from 0.99311 to 0.99375, saving model to logs/dynamicLogs/modelS/dynamic1\\cp.ckpt\n",
      "491/491 [==============================] - 44s 91ms/step - loss: 0.1972 - accuracy: 0.9451 - val_loss: 0.0260 - val_accuracy: 0.9938\n",
      "Epoch 11/50\n",
      "491/491 [==============================] - ETA: 0s - loss: 0.1730 - accuracy: 0.9516\n",
      "Epoch 11: val_accuracy improved from 0.99375 to 0.99503, saving model to logs/dynamicLogs/modelS/dynamic1\\cp.ckpt\n",
      "491/491 [==============================] - 40s 82ms/step - loss: 0.1730 - accuracy: 0.9516 - val_loss: 0.0234 - val_accuracy: 0.9950\n",
      "Epoch 12/50\n",
      "491/491 [==============================] - ETA: 0s - loss: 0.1509 - accuracy: 0.9575\n",
      "Epoch 12: val_accuracy did not improve from 0.99503\n",
      "491/491 [==============================] - 57s 117ms/step - loss: 0.1509 - accuracy: 0.9575 - val_loss: 0.0229 - val_accuracy: 0.9943\n",
      "Epoch 13/50\n",
      "491/491 [==============================] - ETA: 0s - loss: 0.1394 - accuracy: 0.9615\n",
      "Epoch 13: val_accuracy improved from 0.99503 to 0.99528, saving model to logs/dynamicLogs/modelS/dynamic1\\cp.ckpt\n",
      "491/491 [==============================] - 61s 125ms/step - loss: 0.1394 - accuracy: 0.9615 - val_loss: 0.0217 - val_accuracy: 0.9953\n",
      "Epoch 14/50\n",
      "491/491 [==============================] - ETA: 0s - loss: 0.1265 - accuracy: 0.9650\n",
      "Epoch 14: val_accuracy improved from 0.99528 to 0.99732, saving model to logs/dynamicLogs/modelS/dynamic1\\cp.ckpt\n",
      "491/491 [==============================] - 49s 100ms/step - loss: 0.1265 - accuracy: 0.9650 - val_loss: 0.0151 - val_accuracy: 0.9973\n",
      "Epoch 15/50\n",
      "491/491 [==============================] - ETA: 0s - loss: 0.1193 - accuracy: 0.9662\n",
      "Epoch 15: val_accuracy did not improve from 0.99732\n",
      "491/491 [==============================] - 47s 95ms/step - loss: 0.1193 - accuracy: 0.9662 - val_loss: 0.0177 - val_accuracy: 0.9953\n",
      "Epoch 16/50\n",
      "491/491 [==============================] - ETA: 0s - loss: 0.1054 - accuracy: 0.9707\n",
      "Epoch 16: val_accuracy did not improve from 0.99732\n",
      "491/491 [==============================] - 50s 101ms/step - loss: 0.1054 - accuracy: 0.9707 - val_loss: 0.0125 - val_accuracy: 0.9966\n",
      "Epoch 17/50\n",
      "491/491 [==============================] - ETA: 0s - loss: 0.0998 - accuracy: 0.9714\n",
      "Epoch 17: val_accuracy did not improve from 0.99732\n",
      "491/491 [==============================] - 45s 92ms/step - loss: 0.0998 - accuracy: 0.9714 - val_loss: 0.0134 - val_accuracy: 0.9969\n",
      "Epoch 18/50\n",
      "491/491 [==============================] - ETA: 0s - loss: 0.0893 - accuracy: 0.9746\n",
      "Epoch 18: val_accuracy did not improve from 0.99732\n",
      "491/491 [==============================] - 49s 99ms/step - loss: 0.0893 - accuracy: 0.9746 - val_loss: 0.0109 - val_accuracy: 0.9973\n",
      "Epoch 19/50\n",
      "491/491 [==============================] - ETA: 0s - loss: 0.0849 - accuracy: 0.9757\n",
      "Epoch 19: val_accuracy improved from 0.99732 to 0.99783, saving model to logs/dynamicLogs/modelS/dynamic1\\cp.ckpt\n",
      "491/491 [==============================] - 42s 85ms/step - loss: 0.0849 - accuracy: 0.9757 - val_loss: 0.0087 - val_accuracy: 0.9978\n",
      "Epoch 20/50\n",
      "491/491 [==============================] - ETA: 0s - loss: 0.0806 - accuracy: 0.9778\n",
      "Epoch 20: val_accuracy improved from 0.99783 to 0.99834, saving model to logs/dynamicLogs/modelS/dynamic1\\cp.ckpt\n",
      "491/491 [==============================] - 53s 108ms/step - loss: 0.0806 - accuracy: 0.9778 - val_loss: 0.0088 - val_accuracy: 0.9983\n",
      "Epoch 21/50\n",
      "491/491 [==============================] - ETA: 0s - loss: 0.0770 - accuracy: 0.9785\n",
      "Epoch 21: val_accuracy improved from 0.99834 to 0.99872, saving model to logs/dynamicLogs/modelS/dynamic1\\cp.ckpt\n",
      "491/491 [==============================] - 33s 68ms/step - loss: 0.0770 - accuracy: 0.9785 - val_loss: 0.0072 - val_accuracy: 0.9987\n",
      "Epoch 22/50\n",
      "491/491 [==============================] - ETA: 0s - loss: 0.0728 - accuracy: 0.9794\n",
      "Epoch 22: val_accuracy did not improve from 0.99872\n",
      "491/491 [==============================] - 33s 67ms/step - loss: 0.0728 - accuracy: 0.9794 - val_loss: 0.0156 - val_accuracy: 0.9957\n",
      "Epoch 23/50\n",
      "491/491 [==============================] - ETA: 0s - loss: 0.0664 - accuracy: 0.9818\n",
      "Epoch 23: val_accuracy did not improve from 0.99872\n",
      "491/491 [==============================] - 33s 67ms/step - loss: 0.0664 - accuracy: 0.9818 - val_loss: 0.0096 - val_accuracy: 0.9972\n",
      "Epoch 24/50\n",
      "491/491 [==============================] - ETA: 0s - loss: 0.0642 - accuracy: 0.9819\n",
      "Epoch 24: val_accuracy did not improve from 0.99872\n",
      "491/491 [==============================] - 45s 90ms/step - loss: 0.0642 - accuracy: 0.9819 - val_loss: 0.0068 - val_accuracy: 0.9983\n",
      "Epoch 25/50\n",
      "491/491 [==============================] - ETA: 0s - loss: 0.0608 - accuracy: 0.9830\n",
      "Epoch 25: val_accuracy did not improve from 0.99872\n",
      "491/491 [==============================] - 41s 83ms/step - loss: 0.0608 - accuracy: 0.9830 - val_loss: 0.0068 - val_accuracy: 0.9978\n",
      "Epoch 26/50\n",
      "491/491 [==============================] - ETA: 0s - loss: 0.0549 - accuracy: 0.9842\n",
      "Epoch 26: val_accuracy did not improve from 0.99872\n",
      "491/491 [==============================] - 39s 80ms/step - loss: 0.0549 - accuracy: 0.9842 - val_loss: 0.0059 - val_accuracy: 0.9985\n",
      "Epoch 27/50\n",
      "491/491 [==============================] - ETA: 0s - loss: 0.0553 - accuracy: 0.9843\n",
      "Epoch 27: val_accuracy improved from 0.99872 to 0.99885, saving model to logs/dynamicLogs/modelS/dynamic1\\cp.ckpt\n",
      "491/491 [==============================] - 43s 88ms/step - loss: 0.0553 - accuracy: 0.9843 - val_loss: 0.0046 - val_accuracy: 0.9989\n",
      "Epoch 28/50\n",
      "491/491 [==============================] - ETA: 0s - loss: 0.0478 - accuracy: 0.9866\n",
      "Epoch 28: val_accuracy improved from 0.99885 to 0.99911, saving model to logs/dynamicLogs/modelS/dynamic1\\cp.ckpt\n",
      "491/491 [==============================] - 42s 85ms/step - loss: 0.0478 - accuracy: 0.9866 - val_loss: 0.0052 - val_accuracy: 0.9991\n",
      "Epoch 29/50\n",
      "491/491 [==============================] - ETA: 0s - loss: 0.0500 - accuracy: 0.9861\n",
      "Epoch 29: val_accuracy improved from 0.99911 to 0.99923, saving model to logs/dynamicLogs/modelS/dynamic1\\cp.ckpt\n",
      "491/491 [==============================] - 38s 77ms/step - loss: 0.0500 - accuracy: 0.9861 - val_loss: 0.0042 - val_accuracy: 0.9992\n",
      "Epoch 30/50\n",
      "491/491 [==============================] - ETA: 0s - loss: 0.0490 - accuracy: 0.9862\n",
      "Epoch 30: val_accuracy did not improve from 0.99923\n",
      "491/491 [==============================] - 34s 70ms/step - loss: 0.0490 - accuracy: 0.9862 - val_loss: 0.0057 - val_accuracy: 0.9983\n",
      "Epoch 31/50\n",
      "491/491 [==============================] - ETA: 0s - loss: 0.0463 - accuracy: 0.9871\n",
      "Epoch 31: val_accuracy did not improve from 0.99923\n",
      "491/491 [==============================] - 42s 85ms/step - loss: 0.0463 - accuracy: 0.9871 - val_loss: 0.0036 - val_accuracy: 0.9991\n",
      "Epoch 32/50\n",
      "491/491 [==============================] - ETA: 0s - loss: 0.0377 - accuracy: 0.9897\n",
      "Epoch 32: val_accuracy did not improve from 0.99923\n",
      "491/491 [==============================] - 38s 77ms/step - loss: 0.0377 - accuracy: 0.9897 - val_loss: 0.0026 - val_accuracy: 0.9992\n",
      "Epoch 33/50\n",
      "491/491 [==============================] - ETA: 0s - loss: 0.0418 - accuracy: 0.9877\n",
      "Epoch 33: val_accuracy did not improve from 0.99923\n",
      "491/491 [==============================] - 37s 76ms/step - loss: 0.0418 - accuracy: 0.9877 - val_loss: 0.0058 - val_accuracy: 0.9991\n",
      "Epoch 34/50\n",
      "491/491 [==============================] - ETA: 0s - loss: 0.0431 - accuracy: 0.9874\n",
      "Epoch 34: val_accuracy improved from 0.99923 to 0.99949, saving model to logs/dynamicLogs/modelS/dynamic1\\cp.ckpt\n",
      "491/491 [==============================] - 38s 77ms/step - loss: 0.0431 - accuracy: 0.9874 - val_loss: 0.0028 - val_accuracy: 0.9995\n",
      "Epoch 35/50\n",
      "491/491 [==============================] - ETA: 0s - loss: 0.0382 - accuracy: 0.9895\n",
      "Epoch 35: val_accuracy did not improve from 0.99949\n",
      "491/491 [==============================] - 38s 76ms/step - loss: 0.0382 - accuracy: 0.9895 - val_loss: 0.0039 - val_accuracy: 0.9987\n",
      "Epoch 36/50\n",
      "491/491 [==============================] - ETA: 0s - loss: 0.0346 - accuracy: 0.9902\n",
      "Epoch 36: val_accuracy did not improve from 0.99949\n",
      "491/491 [==============================] - 38s 77ms/step - loss: 0.0346 - accuracy: 0.9902 - val_loss: 0.0037 - val_accuracy: 0.9990\n",
      "Epoch 37/50\n",
      "491/491 [==============================] - ETA: 0s - loss: 0.0376 - accuracy: 0.9894\n",
      "Epoch 37: val_accuracy did not improve from 0.99949\n",
      "491/491 [==============================] - 39s 78ms/step - loss: 0.0376 - accuracy: 0.9894 - val_loss: 0.0059 - val_accuracy: 0.9978\n",
      "Epoch 38/50\n",
      "491/491 [==============================] - ETA: 0s - loss: 0.0323 - accuracy: 0.9907\n",
      "Epoch 38: val_accuracy improved from 0.99949 to 0.99962, saving model to logs/dynamicLogs/modelS/dynamic1\\cp.ckpt\n",
      "491/491 [==============================] - 38s 77ms/step - loss: 0.0323 - accuracy: 0.9907 - val_loss: 0.0017 - val_accuracy: 0.9996\n",
      "Epoch 39/50\n",
      "491/491 [==============================] - ETA: 0s - loss: 0.0351 - accuracy: 0.9901\n",
      "Epoch 39: val_accuracy improved from 0.99962 to 0.99974, saving model to logs/dynamicLogs/modelS/dynamic1\\cp.ckpt\n",
      "491/491 [==============================] - 38s 77ms/step - loss: 0.0351 - accuracy: 0.9901 - val_loss: 0.0015 - val_accuracy: 0.9997\n",
      "Epoch 40/50\n",
      "491/491 [==============================] - ETA: 0s - loss: 0.0305 - accuracy: 0.9910\n",
      "Epoch 40: val_accuracy did not improve from 0.99974\n",
      "491/491 [==============================] - 38s 77ms/step - loss: 0.0305 - accuracy: 0.9910 - val_loss: 0.0047 - val_accuracy: 0.9986\n",
      "Epoch 41/50\n",
      "491/491 [==============================] - ETA: 0s - loss: 0.0301 - accuracy: 0.9911\n",
      "Epoch 41: val_accuracy did not improve from 0.99974\n",
      "491/491 [==============================] - 40s 81ms/step - loss: 0.0301 - accuracy: 0.9911 - val_loss: 0.0038 - val_accuracy: 0.9990\n",
      "Epoch 42/50\n",
      "491/491 [==============================] - ETA: 0s - loss: 0.0285 - accuracy: 0.9920\n",
      "Epoch 42: val_accuracy improved from 0.99974 to 0.99987, saving model to logs/dynamicLogs/modelS/dynamic1\\cp.ckpt\n",
      "491/491 [==============================] - 42s 86ms/step - loss: 0.0285 - accuracy: 0.9920 - val_loss: 0.0015 - val_accuracy: 0.9999\n",
      "Epoch 43/50\n",
      "491/491 [==============================] - ETA: 0s - loss: 0.0286 - accuracy: 0.9921\n",
      "Epoch 43: val_accuracy did not improve from 0.99987\n",
      "491/491 [==============================] - 37s 75ms/step - loss: 0.0286 - accuracy: 0.9921 - val_loss: 0.0053 - val_accuracy: 0.9982\n",
      "Epoch 44/50\n",
      "491/491 [==============================] - ETA: 0s - loss: 0.0264 - accuracy: 0.9923\n",
      "Epoch 44: val_accuracy did not improve from 0.99987\n",
      "491/491 [==============================] - 42s 85ms/step - loss: 0.0264 - accuracy: 0.9923 - val_loss: 0.0032 - val_accuracy: 0.9989\n",
      "Epoch 45/50\n",
      "491/491 [==============================] - ETA: 0s - loss: 0.0279 - accuracy: 0.9915\n",
      "Epoch 45: val_accuracy did not improve from 0.99987\n",
      "491/491 [==============================] - 38s 76ms/step - loss: 0.0279 - accuracy: 0.9915 - val_loss: 0.0020 - val_accuracy: 0.9995\n",
      "Epoch 46/50\n",
      "491/491 [==============================] - ETA: 0s - loss: 0.0269 - accuracy: 0.9922\n",
      "Epoch 46: val_accuracy did not improve from 0.99987\n",
      "491/491 [==============================] - 43s 88ms/step - loss: 0.0269 - accuracy: 0.9922 - val_loss: 0.0011 - val_accuracy: 0.9997\n",
      "Epoch 47/50\n",
      "491/491 [==============================] - ETA: 0s - loss: 0.0261 - accuracy: 0.9926\n",
      "Epoch 47: val_accuracy did not improve from 0.99987\n",
      "491/491 [==============================] - 43s 87ms/step - loss: 0.0261 - accuracy: 0.9926 - val_loss: 0.0012 - val_accuracy: 0.9996\n",
      "Epoch 48/50\n",
      "491/491 [==============================] - ETA: 0s - loss: 0.0232 - accuracy: 0.9936\n",
      "Epoch 48: val_accuracy did not improve from 0.99987\n",
      "491/491 [==============================] - 36s 73ms/step - loss: 0.0232 - accuracy: 0.9936 - val_loss: 0.0026 - val_accuracy: 0.9991\n",
      "Epoch 49/50\n",
      "491/491 [==============================] - ETA: 0s - loss: 0.0265 - accuracy: 0.9923\n",
      "Epoch 49: val_accuracy did not improve from 0.99987\n",
      "491/491 [==============================] - 36s 72ms/step - loss: 0.0265 - accuracy: 0.9923 - val_loss: 0.0021 - val_accuracy: 0.9995\n",
      "Epoch 50/50\n",
      "491/491 [==============================] - ETA: 0s - loss: 0.0216 - accuracy: 0.9939\n",
      "Epoch 50: val_accuracy did not improve from 0.99987\n",
      "491/491 [==============================] - 34s 69ms/step - loss: 0.0216 - accuracy: 0.9939 - val_loss: 0.0019 - val_accuracy: 0.9996\n",
      "Epoch 50: early stopping\n"
     ]
    }
   ],
   "source": [
    "#34 26.1 seg\n",
    "historyVS = modelS.fit(trainA_ds,\n",
    "          epochs=50, \n",
    "          validation_data = validation_ds, \n",
    "          callbacks=callbacksMS)"
   ]
  },
  {
   "cell_type": "code",
   "execution_count": 28,
   "metadata": {},
   "outputs": [
    {
     "name": "stdout",
     "output_type": "stream",
     "text": [
      "dict_keys(['loss', 'accuracy', 'val_loss', 'val_accuracy'])\n"
     ]
    },
    {
     "data": {
      "image/png": "[encoded data removed]",
      "text/plain": [
       "<Figure size 640x480 with 1 Axes>"
      ]
     },
     "metadata": {},
     "output_type": "display_data"
    },
    {
     "data": {
      "image/png": "[encoded data removed]",
      "text/plain": [
       "<Figure size 640x480 with 1 Axes>"
      ]
     },
     "metadata": {},
     "output_type": "display_data"
    }
   ],
   "source": [
    "show_history(historyVS)"
   ]
  },
  {
   "attachments": {},
   "cell_type": "markdown",
   "metadata": {},
   "source": [
    "How to explain these results"
   ]
  },
  {
   "cell_type": "code",
   "execution_count": 29,
   "metadata": {},
   "outputs": [
    {
     "name": "stdout",
     "output_type": "stream",
     "text": [
      "198/198 - 14s - loss: 0.0596 - accuracy: 0.9817 - 14s/epoch - 70ms/step\n",
      "[0.059625569730997086, 0.9817101955413818]\n",
      "123/123 - 4s - loss: 0.0015 - accuracy: 0.9999 - 4s/epoch - 35ms/step\n",
      "[0.0014694643905386329, 0.9998725056648254]\n",
      "491/491 - 18s - loss: 0.0156 - accuracy: 0.9963 - 18s/epoch - 37ms/step\n",
      "[0.015604773536324501, 0.9963018298149109]\n"
     ]
    }
   ],
   "source": [
    "modelS.load_weights(file_pathMS)\n",
    "\n",
    "evalVS = modelS.evaluate(test_ds, verbose=2)\n",
    "print(evalVS)\n",
    "valVS = modelS.evaluate(validation_ds, verbose=2)\n",
    "print(valVS)\n",
    "tvalVS = modelS.evaluate(trainA_ds, verbose=2)\n",
    "print(tvalVS)"
   ]
  },
  {
   "attachments": {},
   "cell_type": "markdown",
   "metadata": {},
   "source": [
    "## Model 2 - Notebook from Kaggle (https://www.kaggle.com/code/shivank856/gtsrb-cnn-98-test-accuracy/notebook)"
   ]
  },
  {
   "cell_type": "code",
   "execution_count": 38,
   "metadata": {},
   "outputs": [],
   "source": [
    "def modelK(classCount, imgSize,channels):\n",
    "    model = Sequential()\n",
    "\n",
    "    model.add(Conv2D(filters=16, kernel_size=(3,3), activation='relu', input_shape=(imgSize, imgSize, channels)))\n",
    "    model.add(Conv2D(filters=32, kernel_size=(3,3), activation='relu'))\n",
    "    model.add(MaxPooling2D(pool_size=(2, 2)))\n",
    "    model.add(BatchNormalization(axis=-1))\n",
    "    \n",
    "    model.add(Conv2D(filters=64, kernel_size=(3,3), activation='relu'))\n",
    "    model.add(Conv2D(filters=128, kernel_size=(3,3), activation='relu'))\n",
    "    model.add(MaxPooling2D(pool_size=(2, 2)))\n",
    "    model.add(BatchNormalization(axis=-1))\n",
    "    \n",
    "    model.add(Flatten())\n",
    "    model.add(Dense(512, activation='relu'))\n",
    "    model.add(BatchNormalization())\n",
    "    model.add(Dropout(rate=0.5))\n",
    "    \n",
    "    model.add(Dense(classCount, activation='softmax'))\n",
    "    \n",
    "    lr = 0.001\n",
    "    epochs = 30\n",
    "    opt = Adam(lr=lr, decay=lr / (epochs * 0.5))\n",
    "    model.compile(loss='categorical_crossentropy', optimizer=opt, metrics=['accuracy'])\n",
    "    return model"
   ]
  },
  {
   "cell_type": "code",
   "execution_count": 39,
   "metadata": {},
   "outputs": [
    {
     "name": "stdout",
     "output_type": "stream",
     "text": [
      "Model: \"sequential_1\"\n",
      "_________________________________________________________________\n",
      " Layer (type)                Output Shape              Param #   \n",
      "=================================================================\n",
      " conv2d_4 (Conv2D)           (None, 30, 30, 16)        448       \n",
      "                                                                 \n",
      " conv2d_5 (Conv2D)           (None, 28, 28, 32)        4640      \n",
      "                                                                 \n",
      " max_pooling2d_2 (MaxPooling  (None, 14, 14, 32)       0         \n",
      " 2D)                                                             \n",
      "                                                                 \n",
      " batch_normalization_3 (Batc  (None, 14, 14, 32)       128       \n",
      " hNormalization)                                                 \n",
      "                                                                 \n",
      " conv2d_6 (Conv2D)           (None, 12, 12, 64)        18496     \n",
      "                                                                 \n",
      " conv2d_7 (Conv2D)           (None, 10, 10, 128)       73856     \n",
      "                                                                 \n",
      " max_pooling2d_3 (MaxPooling  (None, 5, 5, 128)        0         \n",
      " 2D)                                                             \n",
      "                                                                 \n",
      " batch_normalization_4 (Batc  (None, 5, 5, 128)        512       \n",
      " hNormalization)                                                 \n",
      "                                                                 \n",
      " flatten_1 (Flatten)         (None, 3200)              0         \n",
      "                                                                 \n",
      " dense_2 (Dense)             (None, 512)               1638912   \n",
      "                                                                 \n",
      " batch_normalization_5 (Batc  (None, 512)              2048      \n",
      " hNormalization)                                                 \n",
      "                                                                 \n",
      " dropout_1 (Dropout)         (None, 512)               0         \n",
      "                                                                 \n",
      " dense_3 (Dense)             (None, 43)                22059     \n",
      "                                                                 \n",
      "=================================================================\n",
      "Total params: 1,761,099\n",
      "Trainable params: 1,759,755\n",
      "Non-trainable params: 1,344\n",
      "_________________________________________________________________\n",
      "None\n"
     ]
    },
    {
     "name": "stderr",
     "output_type": "stream",
     "text": [
      "c:\\Users\\USER\\Documents\\GitHub\\VCPI-uminho\\computer-vision\\.venv\\lib\\site-packages\\keras\\optimizers\\optimizer_v2\\adam.py:114: UserWarning: The `lr` argument is deprecated, use `learning_rate` instead.\n",
      "  super().__init__(name, **kwargs)\n"
     ]
    }
   ],
   "source": [
    "modelK = modelK(43, 32, 3)\n",
    "print(modelK.summary())"
   ]
  },
  {
   "cell_type": "code",
   "execution_count": 40,
   "metadata": {},
   "outputs": [],
   "source": [
    "file_pathMK, callbacksMK = prepareCallbacks('dynamic1',log_and_model_pathK)"
   ]
  },
  {
   "cell_type": "code",
   "execution_count": 41,
   "metadata": {},
   "outputs": [
    {
     "name": "stdout",
     "output_type": "stream",
     "text": [
      "Epoch 1/50\n",
      "491/491 [==============================] - ETA: 0s - loss: 1.0755 - accuracy: 0.7179\n",
      "Epoch 1: val_accuracy improved from -inf to 0.41915, saving model to logs/preprocessingLogs/modelK/preprocessing1\\cp.ckpt\n",
      "491/491 [==============================] - 73s 121ms/step - loss: 1.0755 - accuracy: 0.7179 - val_loss: 2.2613 - val_accuracy: 0.4192\n",
      "Epoch 2/50\n",
      "491/491 [==============================] - ETA: 0s - loss: 0.1397 - accuracy: 0.9590\n",
      "Epoch 2: val_accuracy improved from 0.41915 to 0.98891, saving model to logs/preprocessingLogs/modelK/preprocessing1\\cp.ckpt\n",
      "491/491 [==============================] - 47s 96ms/step - loss: 0.1397 - accuracy: 0.9590 - val_loss: 0.0357 - val_accuracy: 0.9889\n",
      "Epoch 3/50\n",
      "491/491 [==============================] - ETA: 0s - loss: 0.0834 - accuracy: 0.9748\n",
      "Epoch 3: val_accuracy improved from 0.98891 to 0.99005, saving model to logs/preprocessingLogs/modelK/preprocessing1\\cp.ckpt\n",
      "491/491 [==============================] - 46s 94ms/step - loss: 0.0834 - accuracy: 0.9748 - val_loss: 0.0333 - val_accuracy: 0.9901\n",
      "Epoch 4/50\n",
      "491/491 [==============================] - ETA: 0s - loss: 0.0558 - accuracy: 0.9835\n",
      "Epoch 4: val_accuracy improved from 0.99005 to 0.99528, saving model to logs/preprocessingLogs/modelK/preprocessing1\\cp.ckpt\n",
      "491/491 [==============================] - 47s 95ms/step - loss: 0.0558 - accuracy: 0.9835 - val_loss: 0.0154 - val_accuracy: 0.9953\n",
      "Epoch 5/50\n",
      "491/491 [==============================] - ETA: 0s - loss: 0.0517 - accuracy: 0.9837\n",
      "Epoch 5: val_accuracy did not improve from 0.99528\n",
      "491/491 [==============================] - 46s 93ms/step - loss: 0.0517 - accuracy: 0.9837 - val_loss: 0.0219 - val_accuracy: 0.9932\n",
      "Epoch 6/50\n",
      "491/491 [==============================] - ETA: 0s - loss: 0.0380 - accuracy: 0.9879\n",
      "Epoch 6: val_accuracy improved from 0.99528 to 0.99745, saving model to logs/preprocessingLogs/modelK/preprocessing1\\cp.ckpt\n",
      "491/491 [==============================] - 47s 95ms/step - loss: 0.0380 - accuracy: 0.9879 - val_loss: 0.0101 - val_accuracy: 0.9974\n",
      "Epoch 7/50\n",
      "491/491 [==============================] - ETA: 0s - loss: 0.0351 - accuracy: 0.9897\n",
      "Epoch 7: val_accuracy improved from 0.99745 to 0.99809, saving model to logs/preprocessingLogs/modelK/preprocessing1\\cp.ckpt\n",
      "491/491 [==============================] - 47s 95ms/step - loss: 0.0351 - accuracy: 0.9897 - val_loss: 0.0085 - val_accuracy: 0.9981\n",
      "Epoch 8/50\n",
      "491/491 [==============================] - ETA: 0s - loss: 0.0314 - accuracy: 0.9905\n",
      "Epoch 8: val_accuracy did not improve from 0.99809\n",
      "491/491 [==============================] - 45s 92ms/step - loss: 0.0314 - accuracy: 0.9905 - val_loss: 0.0226 - val_accuracy: 0.9927\n",
      "Epoch 9/50\n",
      "491/491 [==============================] - ETA: 0s - loss: 0.0263 - accuracy: 0.9915\n",
      "Epoch 9: val_accuracy did not improve from 0.99809\n",
      "491/491 [==============================] - 46s 93ms/step - loss: 0.0263 - accuracy: 0.9915 - val_loss: 0.0086 - val_accuracy: 0.9969\n",
      "Epoch 10/50\n",
      "491/491 [==============================] - ETA: 0s - loss: 0.0293 - accuracy: 0.9907\n",
      "Epoch 10: val_accuracy did not improve from 0.99809\n",
      "491/491 [==============================] - 46s 94ms/step - loss: 0.0293 - accuracy: 0.9907 - val_loss: 0.0222 - val_accuracy: 0.9934\n",
      "Epoch 11/50\n",
      "491/491 [==============================] - ETA: 0s - loss: 0.0269 - accuracy: 0.9914\n",
      "Epoch 11: val_accuracy did not improve from 0.99809\n",
      "491/491 [==============================] - 47s 95ms/step - loss: 0.0269 - accuracy: 0.9914 - val_loss: 0.0080 - val_accuracy: 0.9969\n",
      "Epoch 12/50\n",
      "491/491 [==============================] - ETA: 0s - loss: 0.0224 - accuracy: 0.9932\n",
      "Epoch 12: val_accuracy did not improve from 0.99809\n",
      "491/491 [==============================] - 46s 92ms/step - loss: 0.0224 - accuracy: 0.9932 - val_loss: 0.0068 - val_accuracy: 0.9980\n",
      "Epoch 13/50\n",
      "491/491 [==============================] - ETA: 0s - loss: 0.0202 - accuracy: 0.9940\n",
      "Epoch 13: val_accuracy improved from 0.99809 to 0.99936, saving model to logs/preprocessingLogs/modelK/preprocessing1\\cp.ckpt\n",
      "491/491 [==============================] - 48s 97ms/step - loss: 0.0202 - accuracy: 0.9940 - val_loss: 0.0039 - val_accuracy: 0.9994\n",
      "Epoch 14/50\n",
      "491/491 [==============================] - ETA: 0s - loss: 0.0178 - accuracy: 0.9941\n",
      "Epoch 14: val_accuracy did not improve from 0.99936\n",
      "491/491 [==============================] - 46s 94ms/step - loss: 0.0178 - accuracy: 0.9941 - val_loss: 0.0074 - val_accuracy: 0.9977\n",
      "Epoch 15/50\n",
      "491/491 [==============================] - ETA: 0s - loss: 0.0206 - accuracy: 0.9933\n",
      "Epoch 15: val_accuracy did not improve from 0.99936\n",
      "491/491 [==============================] - 48s 97ms/step - loss: 0.0206 - accuracy: 0.9933 - val_loss: 0.0031 - val_accuracy: 0.9989\n",
      "Epoch 16/50\n",
      "491/491 [==============================] - ETA: 0s - loss: 0.0211 - accuracy: 0.9931\n",
      "Epoch 16: val_accuracy improved from 0.99936 to 0.99949, saving model to logs/preprocessingLogs/modelK/preprocessing1\\cp.ckpt\n",
      "491/491 [==============================] - 46s 94ms/step - loss: 0.0211 - accuracy: 0.9931 - val_loss: 0.0027 - val_accuracy: 0.9995\n",
      "Epoch 17/50\n",
      "491/491 [==============================] - ETA: 0s - loss: 0.0153 - accuracy: 0.9948\n",
      "Epoch 17: val_accuracy improved from 0.99949 to 0.99974, saving model to logs/preprocessingLogs/modelK/preprocessing1\\cp.ckpt\n",
      "491/491 [==============================] - 46s 94ms/step - loss: 0.0153 - accuracy: 0.9948 - val_loss: 0.0016 - val_accuracy: 0.9997\n",
      "Epoch 18/50\n",
      "491/491 [==============================] - ETA: 0s - loss: 0.0157 - accuracy: 0.9949\n",
      "Epoch 18: val_accuracy did not improve from 0.99974\n",
      "491/491 [==============================] - 45s 92ms/step - loss: 0.0157 - accuracy: 0.9949 - val_loss: 0.0022 - val_accuracy: 0.9996\n",
      "Epoch 19/50\n",
      "491/491 [==============================] - ETA: 0s - loss: 0.0172 - accuracy: 0.9945\n",
      "Epoch 19: val_accuracy did not improve from 0.99974\n",
      "491/491 [==============================] - 45s 92ms/step - loss: 0.0172 - accuracy: 0.9945 - val_loss: 0.0034 - val_accuracy: 0.9986\n",
      "Epoch 20/50\n",
      "491/491 [==============================] - ETA: 0s - loss: 0.0132 - accuracy: 0.9957\n",
      "Epoch 20: val_accuracy did not improve from 0.99974\n",
      "491/491 [==============================] - 46s 93ms/step - loss: 0.0132 - accuracy: 0.9957 - val_loss: 0.0473 - val_accuracy: 0.9839\n",
      "Epoch 21/50\n",
      "491/491 [==============================] - ETA: 0s - loss: 0.0131 - accuracy: 0.9957\n",
      "Epoch 21: val_accuracy did not improve from 0.99974\n",
      "491/491 [==============================] - 46s 93ms/step - loss: 0.0131 - accuracy: 0.9957 - val_loss: 0.0015 - val_accuracy: 0.9996\n",
      "Epoch 22/50\n",
      "491/491 [==============================] - ETA: 0s - loss: 0.0107 - accuracy: 0.9965\n",
      "Epoch 22: val_accuracy did not improve from 0.99974\n",
      "491/491 [==============================] - 46s 93ms/step - loss: 0.0107 - accuracy: 0.9965 - val_loss: 0.0037 - val_accuracy: 0.9994\n",
      "Epoch 23/50\n",
      "491/491 [==============================] - ETA: 0s - loss: 0.0130 - accuracy: 0.9955\n",
      "Epoch 23: val_accuracy did not improve from 0.99974\n",
      "491/491 [==============================] - 46s 93ms/step - loss: 0.0130 - accuracy: 0.9955 - val_loss: 0.0094 - val_accuracy: 0.9971\n",
      "Epoch 24/50\n",
      "491/491 [==============================] - ETA: 0s - loss: 0.0173 - accuracy: 0.9944\n",
      "Epoch 24: val_accuracy did not improve from 0.99974\n",
      "491/491 [==============================] - 44s 90ms/step - loss: 0.0173 - accuracy: 0.9944 - val_loss: 9.2879e-04 - val_accuracy: 0.9997\n",
      "Epoch 25/50\n",
      "491/491 [==============================] - ETA: 0s - loss: 0.0109 - accuracy: 0.9967\n",
      "Epoch 25: val_accuracy did not improve from 0.99974\n",
      "491/491 [==============================] - 44s 90ms/step - loss: 0.0109 - accuracy: 0.9967 - val_loss: 0.0028 - val_accuracy: 0.9994\n",
      "Epoch 25: early stopping\n"
     ]
    }
   ],
   "source": [
    "historyVK = modelK.fit(trainA_ds,\n",
    "          epochs=50, \n",
    "          validation_data = validation_ds, \n",
    "          callbacks=callbacksMK)"
   ]
  },
  {
   "cell_type": "code",
   "execution_count": 44,
   "metadata": {},
   "outputs": [
    {
     "name": "stdout",
     "output_type": "stream",
     "text": [
      "dict_keys(['loss', 'accuracy', 'val_loss', 'val_accuracy'])\n"
     ]
    },
    {
     "data": {
      "image/png": "[encoded data removed]",
      "text/plain": [
       "<Figure size 640x480 with 1 Axes>"
      ]
     },
     "metadata": {},
     "output_type": "display_data"
    },
    {
     "data": {
      "image/png": "[encoded data removed]",
      "text/plain": [
       "<Figure size 640x480 with 1 Axes>"
      ]
     },
     "metadata": {},
     "output_type": "display_data"
    }
   ],
   "source": [
    "show_history(historyVK)"
   ]
  },
  {
   "cell_type": "code",
   "execution_count": 47,
   "metadata": {},
   "outputs": [
    {
     "name": "stdout",
     "output_type": "stream",
     "text": [
      "198/198 - 7s - loss: 0.0796 - accuracy: 0.9805 - 7s/epoch - 36ms/step\n",
      "[0.07955237478017807, 0.9805225729942322]\n",
      "123/123 - 5s - loss: 0.0016 - accuracy: 0.9997 - 5s/epoch - 37ms/step\n",
      "[0.0015834792284294963, 0.9997449517250061]\n",
      "491/491 - 20s - loss: 0.0083 - accuracy: 0.9974 - 20s/epoch - 41ms/step\n",
      "[0.008274536579847336, 0.9973857998847961]\n"
     ]
    }
   ],
   "source": [
    "modelK.load_weights(file_pathMK)\n",
    "\n",
    "evalVK = modelK.evaluate(test_ds, verbose=2)\n",
    "print(evalVK)\n",
    "valVK = modelK.evaluate(validation_ds, verbose=2)\n",
    "print(valVK)\n",
    "tvalVK = modelK.evaluate(trainA_ds, verbose=2)\n",
    "print(tvalVK)"
   ]
  },
  {
   "attachments": {},
   "cell_type": "markdown",
   "metadata": {},
   "source": [
    "## Model 3 -  modelGr created by the group \n",
    "\n",
    "- Start with larger filtes in order to get low-level features, advance into high-level filters with higher number of filters"
   ]
  },
  {
   "cell_type": "code",
   "execution_count": 30,
   "metadata": {},
   "outputs": [],
   "source": [
    "def modelGr(classCount, imgSize,channels):\n",
    "    model = Sequential()\n",
    "    model.add(Input(shape=(imgSize, imgSize, channels)))\n",
    "\n",
    "    # Larger filters\n",
    "    model.add(Conv2D(128, (5, 5)))         \n",
    "    model.add(BatchNormalization())\n",
    "    model.add(LeakyReLU(alpha=0.01))   \n",
    "    model.add(MaxPooling2D(pool_size=(2, 2)))\n",
    "\n",
    "    model.add(Conv2D(128, (5, 5)))         \n",
    "    model.add(BatchNormalization())\n",
    "    model.add(LeakyReLU(alpha=0.01))   \n",
    "    model.add(MaxPooling2D(pool_size=(2, 2)))\n",
    "\n",
    "    # Smaller filters\n",
    "    #model.add(Conv2D(64, (3, 3)))         \n",
    "    #model.add(BatchNormalization())\n",
    "    #model.add(Activation('relu'))   \n",
    "    #model.add(MaxPooling2D(pool_size=(2, 2)))\n",
    "\n",
    "    model.add(Conv2D(128, (3, 3)))         \n",
    "    model.add(BatchNormalization())\n",
    "    model.add(Activation('relu'))   \n",
    "    model.add(MaxPooling2D(pool_size=(2, 2)))\n",
    "\n",
    "    model.add(Flatten())\n",
    "    model.add(Dense(512))\n",
    "    model.add(Activation('relu'))  \n",
    "    model.add(BatchNormalization())          \n",
    "    model.add(Dropout(0.5))\n",
    "\n",
    "    model.add(Dense(classCount, activation='softmax'))\n",
    "\n",
    "    opt = Adam(lr=0.001, decay=0.001 / 30) # Same learning rate and decay as ModelK\n",
    "    model.compile(optimizer = opt, loss='categorical_crossentropy', metrics=[ 'accuracy'])\n",
    "    return model"
   ]
  },
  {
   "cell_type": "code",
   "execution_count": 31,
   "metadata": {},
   "outputs": [
    {
     "name": "stdout",
     "output_type": "stream",
     "text": [
      "Model: \"sequential_1\"\n",
      "_________________________________________________________________\n",
      " Layer (type)                Output Shape              Param #   \n",
      "=================================================================\n",
      " conv2d_3 (Conv2D)           (None, 28, 28, 128)       9728      \n",
      "                                                                 \n",
      " batch_normalization_3 (Batc  (None, 28, 28, 128)      512       \n",
      " hNormalization)                                                 \n",
      "                                                                 \n",
      " leaky_re_lu_4 (LeakyReLU)   (None, 28, 28, 128)       0         \n",
      "                                                                 \n",
      " max_pooling2d_2 (MaxPooling  (None, 14, 14, 128)      0         \n",
      " 2D)                                                             \n",
      "                                                                 \n",
      " conv2d_4 (Conv2D)           (None, 10, 10, 128)       409728    \n",
      "                                                                 \n",
      " batch_normalization_4 (Batc  (None, 10, 10, 128)      512       \n",
      " hNormalization)                                                 \n",
      "                                                                 \n",
      " leaky_re_lu_5 (LeakyReLU)   (None, 10, 10, 128)       0         \n",
      "                                                                 \n",
      " max_pooling2d_3 (MaxPooling  (None, 5, 5, 128)        0         \n",
      " 2D)                                                             \n",
      "                                                                 \n",
      " conv2d_5 (Conv2D)           (None, 3, 3, 128)         147584    \n",
      "                                                                 \n",
      " batch_normalization_5 (Batc  (None, 3, 3, 128)        512       \n",
      " hNormalization)                                                 \n",
      "                                                                 \n",
      " activation (Activation)     (None, 3, 3, 128)         0         \n",
      "                                                                 \n",
      " max_pooling2d_4 (MaxPooling  (None, 1, 1, 128)        0         \n",
      " 2D)                                                             \n",
      "                                                                 \n",
      " flatten_1 (Flatten)         (None, 128)               0         \n",
      "                                                                 \n",
      " dense_2 (Dense)             (None, 512)               66048     \n",
      "                                                                 \n",
      " activation_1 (Activation)   (None, 512)               0         \n",
      "                                                                 \n",
      " batch_normalization_6 (Batc  (None, 512)              2048      \n",
      " hNormalization)                                                 \n",
      "                                                                 \n",
      " dropout_1 (Dropout)         (None, 512)               0         \n",
      "                                                                 \n",
      " dense_3 (Dense)             (None, 43)                22059     \n",
      "                                                                 \n",
      "=================================================================\n",
      "Total params: 658,731\n",
      "Trainable params: 656,939\n",
      "Non-trainable params: 1,792\n",
      "_________________________________________________________________\n",
      "None\n"
     ]
    },
    {
     "name": "stderr",
     "output_type": "stream",
     "text": [
      "c:\\Users\\USER\\Documents\\GitHub\\VCPI-uminho\\computer-vision\\.venv\\lib\\site-packages\\keras\\optimizers\\optimizer_v2\\adam.py:114: UserWarning: The `lr` argument is deprecated, use `learning_rate` instead.\n",
      "  super().__init__(name, **kwargs)\n"
     ]
    }
   ],
   "source": [
    "modelGr = modelGr(43, 32, 3)\n",
    "print(modelGr.summary())"
   ]
  },
  {
   "cell_type": "code",
   "execution_count": 39,
   "metadata": {},
   "outputs": [],
   "source": [
    "file_pathMGr, callbacksMGr = prepareCallbacks('dynamic1',log_and_model_pathGr)"
   ]
  },
  {
   "cell_type": "code",
   "execution_count": 40,
   "metadata": {},
   "outputs": [
    {
     "name": "stdout",
     "output_type": "stream",
     "text": [
      "Epoch 1/50\n",
      "491/491 [==============================] - ETA: 0s - loss: 1.6962 - accuracy: 0.5543\n",
      "Epoch 1: val_accuracy improved from -inf to 0.90143, saving model to logs/dynamicLogs/modelGr/dynamic1\\cp.ckpt\n",
      "491/491 [==============================] - 59s 117ms/step - loss: 1.6962 - accuracy: 0.5543 - val_loss: 0.3772 - val_accuracy: 0.9014\n",
      "Epoch 2/50\n",
      " 48/491 [=>............................] - ETA: 52s - loss: 0.5542 - accuracy: 0.8350"
     ]
    }
   ],
   "source": [
    "historyVGr = modelGr.fit(trainA_ds,\n",
    "          epochs=50, \n",
    "          validation_data = validation_ds, \n",
    "          callbacks=callbacksMGr)"
   ]
  },
  {
   "cell_type": "code",
   "execution_count": null,
   "metadata": {},
   "outputs": [],
   "source": [
    "modelGr.load_weights(file_pathMGr)\n",
    "\n",
    "evalVGr = modelGr.evaluate(test_ds, verbose=2)\n",
    "print(evalVGr)\n",
    "valVGr = modelGr.evaluate(validation_ds, verbose=2)\n",
    "print(valVGr )\n",
    "tvalVGr = modelGr.evaluate(trainA_ds, verbose=2)\n",
    "print(tvalVGr)"
   ]
  },
  {
   "attachments": {},
   "cell_type": "markdown",
   "metadata": {},
   "source": [
    "#### Comparing the results for the different models used"
   ]
  },
  {
   "cell_type": "code",
   "execution_count": null,
   "metadata": {},
   "outputs": [],
   "source": [
    "show_accuracies(['VmodelS', 'VmodelK', 'VmodelGr'], [evalVS[1], evalVK[1], evalVGr[1]], [valVS[1], valVK[1], valVGr[1]])"
   ]
  },
  {
   "attachments": {},
   "cell_type": "markdown",
   "metadata": {},
   "source": [
    "### Dynamic approach 2 - Load the dataset into preprocessing and apply data augmentation after batching\n",
    "\n",
    "Check that in this step we batch the train dataset before applying any augmentation process or transformation since we want the type of transformations to batch specifically.\n",
    "\n",
    "Lets try more complicated transformations as we apply a new process_image definition"
   ]
  },
  {
   "attachments": {},
   "cell_type": "markdown",
   "metadata": {},
   "source": [
    "### Dynamic approach 3 - Load the dataset into preprocessing and apply data augmentation through two-phase strategy\n",
    "\n",
    "Check that in this step we batch the train dataset before applying any augmentation process or transformation since we want the type of transformations to batch specifically.\n"
   ]
  }
 ],
 "metadata": {
  "kernelspec": {
   "display_name": ".venv",
   "language": "python",
   "name": "python3"
  },
  "language_info": {
   "codemirror_mode": {
    "name": "ipython",
    "version": 3
   },
   "file_extension": ".py",
   "mimetype": "text/x-python",
   "name": "python",
   "nbconvert_exporter": "python",
   "pygments_lexer": "ipython3",
   "version": "3.9.0"
  },
  "orig_nbformat": 4
 },
 "nbformat": 4,
 "nbformat_minor": 2
}
